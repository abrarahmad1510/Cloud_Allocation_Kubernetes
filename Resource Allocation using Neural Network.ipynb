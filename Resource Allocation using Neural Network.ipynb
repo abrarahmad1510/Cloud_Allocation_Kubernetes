{
 "cells": [
  {
   "cell_type": "code",
   "execution_count": 1,
   "metadata": {},
   "outputs": [],
   "source": [
    "# !pip install matplotlib\n",
    "# !pip install pandas\n",
    "# !pip install keras\n",
    "import numpy as np\n",
    "import matplotlib.pyplot as plt\n",
    "import pandas as pd\n",
    "\n",
    "# Importing the Keras libraries and packages\n",
    "from keras.models import Sequential\n",
    "from keras.layers import Dense\n",
    "from keras.layers import Dropout\n",
    "from keras.layers import LSTM"
   ]
  },
  {
   "cell_type": "code",
   "execution_count": 2,
   "metadata": {},
   "outputs": [],
   "source": [
    "# !pip install sklearn"
   ]
  },
  {
   "cell_type": "code",
   "execution_count": 3,
   "metadata": {
    "scrolled": true
   },
   "outputs": [
    {
     "data": {
      "text/html": [
       "<div>\n",
       "<style scoped>\n",
       "    .dataframe tbody tr th:only-of-type {\n",
       "        vertical-align: middle;\n",
       "    }\n",
       "\n",
       "    .dataframe tbody tr th {\n",
       "        vertical-align: top;\n",
       "    }\n",
       "\n",
       "    .dataframe thead th {\n",
       "        text-align: right;\n",
       "    }\n",
       "</style>\n",
       "<table border=\"1\" class=\"dataframe\">\n",
       "  <thead>\n",
       "    <tr style=\"text-align: right;\">\n",
       "      <th></th>\n",
       "      <th>Row Labels</th>\n",
       "      <th>Sum of inst_num</th>\n",
       "      <th>Sum of time</th>\n",
       "      <th>Sum of plan_cpu</th>\n",
       "      <th>Average of plan_cpu</th>\n",
       "      <th>Sum of plan_mem</th>\n",
       "      <th>Average of plan_mem</th>\n",
       "    </tr>\n",
       "  </thead>\n",
       "  <tbody>\n",
       "    <tr>\n",
       "      <th>0</th>\n",
       "      <td>J1_11</td>\n",
       "      <td>2</td>\n",
       "      <td>139</td>\n",
       "      <td>100</td>\n",
       "      <td>50.000000</td>\n",
       "      <td>0.40</td>\n",
       "      <td>0.200000</td>\n",
       "    </tr>\n",
       "    <tr>\n",
       "      <th>1</th>\n",
       "      <td>J1_11_12</td>\n",
       "      <td>35</td>\n",
       "      <td>48</td>\n",
       "      <td>100</td>\n",
       "      <td>100.000000</td>\n",
       "      <td>0.59</td>\n",
       "      <td>0.590000</td>\n",
       "    </tr>\n",
       "    <tr>\n",
       "      <th>2</th>\n",
       "      <td>J1_13_16</td>\n",
       "      <td>5</td>\n",
       "      <td>4</td>\n",
       "      <td>100</td>\n",
       "      <td>100.000000</td>\n",
       "      <td>0.59</td>\n",
       "      <td>0.590000</td>\n",
       "    </tr>\n",
       "    <tr>\n",
       "      <th>3</th>\n",
       "      <td>J1_2</td>\n",
       "      <td>2</td>\n",
       "      <td>7</td>\n",
       "      <td>200</td>\n",
       "      <td>100.000000</td>\n",
       "      <td>1.18</td>\n",
       "      <td>0.590000</td>\n",
       "    </tr>\n",
       "    <tr>\n",
       "      <th>4</th>\n",
       "      <td>J1_2_3</td>\n",
       "      <td>5</td>\n",
       "      <td>2047</td>\n",
       "      <td>250</td>\n",
       "      <td>83.333333</td>\n",
       "      <td>1.48</td>\n",
       "      <td>0.493333</td>\n",
       "    </tr>\n",
       "  </tbody>\n",
       "</table>\n",
       "</div>"
      ],
      "text/plain": [
       "  Row Labels  Sum of inst_num  Sum of time  Sum of plan_cpu  \\\n",
       "0      J1_11                2          139              100   \n",
       "1   J1_11_12               35           48              100   \n",
       "2   J1_13_16                5            4              100   \n",
       "3       J1_2                2            7              200   \n",
       "4     J1_2_3                5         2047              250   \n",
       "\n",
       "   Average of plan_cpu  Sum of plan_mem  Average of plan_mem  \n",
       "0            50.000000             0.40             0.200000  \n",
       "1           100.000000             0.59             0.590000  \n",
       "2           100.000000             0.59             0.590000  \n",
       "3           100.000000             1.18             0.590000  \n",
       "4            83.333333             1.48             0.493333  "
      ]
     },
     "execution_count": 3,
     "metadata": {},
     "output_type": "execute_result"
    }
   ],
   "source": [
    "# Importing the training set\n",
    "df=pd.read_csv('data/input_data.csv')\n",
    "df.head()"
   ]
  },
  {
   "cell_type": "code",
   "execution_count": 4,
   "metadata": {},
   "outputs": [
    {
     "name": "stdout",
     "output_type": "stream",
     "text": [
      "<class 'pandas.core.frame.DataFrame'>\n",
      "RangeIndex: 5898 entries, 0 to 5897\n",
      "Data columns (total 7 columns):\n",
      " #   Column               Non-Null Count  Dtype  \n",
      "---  ------               --------------  -----  \n",
      " 0   Row Labels           5898 non-null   object \n",
      " 1   Sum of inst_num      5898 non-null   int64  \n",
      " 2   Sum of time          5898 non-null   int64  \n",
      " 3   Sum of plan_cpu      5898 non-null   int64  \n",
      " 4   Average of plan_cpu  5898 non-null   float64\n",
      " 5   Sum of plan_mem      5898 non-null   float64\n",
      " 6   Average of plan_mem  5898 non-null   float64\n",
      "dtypes: float64(3), int64(3), object(1)\n",
      "memory usage: 322.7+ KB\n"
     ]
    }
   ],
   "source": [
    "df.info()"
   ]
  },
  {
   "cell_type": "code",
   "execution_count": 5,
   "metadata": {},
   "outputs": [
    {
     "name": "stdout",
     "output_type": "stream",
     "text": [
      "5898\n"
     ]
    }
   ],
   "source": [
    "train = df[[\"Sum of time\", \"Average of plan_cpu\", \"Average of plan_mem\"]]\n",
    "training_set_size=len(train)\n",
    "print(training_set_size)"
   ]
  },
  {
   "cell_type": "code",
   "execution_count": 6,
   "metadata": {
    "scrolled": false
   },
   "outputs": [
    {
     "data": {
      "text/html": [
       "<div>\n",
       "<style scoped>\n",
       "    .dataframe tbody tr th:only-of-type {\n",
       "        vertical-align: middle;\n",
       "    }\n",
       "\n",
       "    .dataframe tbody tr th {\n",
       "        vertical-align: top;\n",
       "    }\n",
       "\n",
       "    .dataframe thead th {\n",
       "        text-align: right;\n",
       "    }\n",
       "</style>\n",
       "<table border=\"1\" class=\"dataframe\">\n",
       "  <thead>\n",
       "    <tr style=\"text-align: right;\">\n",
       "      <th></th>\n",
       "      <th>Sum of time</th>\n",
       "      <th>Average of plan_cpu</th>\n",
       "      <th>Average of plan_mem</th>\n",
       "    </tr>\n",
       "  </thead>\n",
       "  <tbody>\n",
       "    <tr>\n",
       "      <th>0</th>\n",
       "      <td>139</td>\n",
       "      <td>50.000000</td>\n",
       "      <td>0.200000</td>\n",
       "    </tr>\n",
       "    <tr>\n",
       "      <th>1</th>\n",
       "      <td>48</td>\n",
       "      <td>100.000000</td>\n",
       "      <td>0.590000</td>\n",
       "    </tr>\n",
       "    <tr>\n",
       "      <th>2</th>\n",
       "      <td>4</td>\n",
       "      <td>100.000000</td>\n",
       "      <td>0.590000</td>\n",
       "    </tr>\n",
       "    <tr>\n",
       "      <th>3</th>\n",
       "      <td>7</td>\n",
       "      <td>100.000000</td>\n",
       "      <td>0.590000</td>\n",
       "    </tr>\n",
       "    <tr>\n",
       "      <th>4</th>\n",
       "      <td>2047</td>\n",
       "      <td>83.333333</td>\n",
       "      <td>0.493333</td>\n",
       "    </tr>\n",
       "    <tr>\n",
       "      <th>5</th>\n",
       "      <td>29</td>\n",
       "      <td>100.000000</td>\n",
       "      <td>0.590000</td>\n",
       "    </tr>\n",
       "    <tr>\n",
       "      <th>6</th>\n",
       "      <td>19</td>\n",
       "      <td>100.000000</td>\n",
       "      <td>0.590000</td>\n",
       "    </tr>\n",
       "    <tr>\n",
       "      <th>7</th>\n",
       "      <td>635</td>\n",
       "      <td>55.555556</td>\n",
       "      <td>0.243333</td>\n",
       "    </tr>\n",
       "    <tr>\n",
       "      <th>8</th>\n",
       "      <td>83</td>\n",
       "      <td>92.857143</td>\n",
       "      <td>0.534286</td>\n",
       "    </tr>\n",
       "    <tr>\n",
       "      <th>9</th>\n",
       "      <td>407</td>\n",
       "      <td>50.000000</td>\n",
       "      <td>0.200000</td>\n",
       "    </tr>\n",
       "  </tbody>\n",
       "</table>\n",
       "</div>"
      ],
      "text/plain": [
       "   Sum of time  Average of plan_cpu  Average of plan_mem\n",
       "0          139            50.000000             0.200000\n",
       "1           48           100.000000             0.590000\n",
       "2            4           100.000000             0.590000\n",
       "3            7           100.000000             0.590000\n",
       "4         2047            83.333333             0.493333\n",
       "5           29           100.000000             0.590000\n",
       "6           19           100.000000             0.590000\n",
       "7          635            55.555556             0.243333\n",
       "8           83            92.857143             0.534286\n",
       "9          407            50.000000             0.200000"
      ]
     },
     "execution_count": 6,
     "metadata": {},
     "output_type": "execute_result"
    }
   ],
   "source": [
    "train[:10]"
   ]
  },
  {
   "cell_type": "code",
   "execution_count": 7,
   "metadata": {},
   "outputs": [
    {
     "name": "stdout",
     "output_type": "stream",
     "text": [
      "5898\n",
      "[[[1.39000000e+02]\n",
      "  [5.00000000e+01]\n",
      "  [2.00000000e-01]]\n",
      "\n",
      " [[4.80000000e+01]\n",
      "  [1.00000000e+02]\n",
      "  [5.90000000e-01]]\n",
      "\n",
      " [[4.00000000e+00]\n",
      "  [1.00000000e+02]\n",
      "  [5.90000000e-01]]\n",
      "\n",
      " ...\n",
      "\n",
      " [[4.50000000e+01]\n",
      "  [4.00000000e+02]\n",
      "  [1.72000000e+00]]\n",
      "\n",
      " [[4.50000000e+01]\n",
      "  [4.00000000e+02]\n",
      "  [1.72000000e+00]]\n",
      "\n",
      " [[8.12790000e+06]\n",
      "  [8.47299980e+01]\n",
      "  [3.45715594e-01]]]\n"
     ]
    }
   ],
   "source": [
    "# Getting the inputs and the ouputs\n",
    "X1_train = train\n",
    "y_train = df[[\"Sum of inst_num\"]]\n",
    "print(len(X1_train))\n",
    "# Reshaping\n",
    "X1_train = np.array(X1_train)\n",
    "X2_train = X1_train.reshape(training_set_size, 3, 1) #3 dimesion\n",
    "print(X2_train)"
   ]
  },
  {
   "cell_type": "code",
   "execution_count": 8,
   "metadata": {},
   "outputs": [
    {
     "data": {
      "text/plain": [
       "array([[1.39000000e+02, 5.00000000e+01, 2.00000000e-01],\n",
       "       [4.80000000e+01, 1.00000000e+02, 5.90000000e-01],\n",
       "       [4.00000000e+00, 1.00000000e+02, 5.90000000e-01],\n",
       "       ...,\n",
       "       [4.50000000e+01, 4.00000000e+02, 1.72000000e+00],\n",
       "       [4.50000000e+01, 4.00000000e+02, 1.72000000e+00],\n",
       "       [8.12790000e+06, 8.47299980e+01, 3.45715594e-01]])"
      ]
     },
     "execution_count": 8,
     "metadata": {},
     "output_type": "execute_result"
    }
   ],
   "source": [
    "X1_train"
   ]
  },
  {
   "cell_type": "code",
   "execution_count": 9,
   "metadata": {},
   "outputs": [],
   "source": [
    "# X2_train = np.stack(X2_train, axis=0)  "
   ]
  },
  {
   "cell_type": "code",
   "execution_count": 10,
   "metadata": {},
   "outputs": [],
   "source": [
    " from keras import optimizers"
   ]
  },
  {
   "cell_type": "code",
   "execution_count": 11,
   "metadata": {},
   "outputs": [],
   "source": [
    "# define model\n",
    "model = Sequential()\n",
    "model.add(Dense(128, activation='relu', input_shape=(None, 1)))\n",
    "model.add(Dense(100, activation='relu'))\n",
    "model.add(Dense(64, activation='relu'))\n",
    "model.add(Dense(32, activation='relu'))\n",
    "model.add(Dense(1, activation='sigmoid'))\n",
    "sgd = optimizers.SGD(lr= 1e-3 , decay=1e-6, momentum=0.9, nesterov=True)\n",
    "model.compile(optimizer=sgd, loss='mean_squared_error', metrics=['accuracy'])\n"
   ]
  },
  {
   "cell_type": "code",
   "execution_count": 12,
   "metadata": {
    "pycharm": {
     "name": "#%%\n"
    }
   },
   "outputs": [],
   "source": [
    "from keras.callbacks import ModelCheckpoint\n",
    "# specify filepath- this will write a new file for each epoch with the epoch number contained within the filename\n",
    "filepath=\"weights/nn_weights-{epoch:02d}.hdf5\"\n",
    "checkpoint = ModelCheckpoint(filepath, monitor='val_loss', verbose=0, \n",
    "                                             save_weights_only=False, save_best_only=False, mode='max')"
   ]
  },
  {
   "cell_type": "code",
   "execution_count": 13,
   "metadata": {
    "pycharm": {
     "name": "#%%\n"
    }
   },
   "outputs": [
    {
     "name": "stdout",
     "output_type": "stream",
     "text": [
      "Epoch 1/100\n",
      "1376/1376 [==============================] - 2s 1ms/step - loss: 1542062161.2966 - accuracy: 0.3994 - val_loss: 57380454400.0000 - val_accuracy: 0.9870\n",
      "Epoch 2/100\n",
      "1376/1376 [==============================] - 1s 802us/step - loss: 1840953286.1603 - accuracy: 0.3955 - val_loss: 57380454400.0000 - val_accuracy: 0.9870\n",
      "Epoch 3/100\n",
      "1376/1376 [==============================] - 1s 826us/step - loss: 2209287827.5872 - accuracy: 0.4057 - val_loss: 57380454400.0000 - val_accuracy: 0.9870\n",
      "Epoch 4/100\n",
      "1376/1376 [==============================] - 1s 833us/step - loss: 548897822.5492 - accuracy: 0.3965 - val_loss: 57380454400.0000 - val_accuracy: 0.9870\n",
      "Epoch 5/100\n",
      "1376/1376 [==============================] - 1s 820us/step - loss: 1051703402.5594 - accuracy: 0.3981 - val_loss: 57380454400.0000 - val_accuracy: 0.9870\n",
      "Epoch 6/100\n",
      "1376/1376 [==============================] - 1s 839us/step - loss: 7174928475.7627 - accuracy: 0.4064 - val_loss: 57380454400.0000 - val_accuracy: 0.9870\n",
      "Epoch 7/100\n",
      "1376/1376 [==============================] - 1s 827us/step - loss: 10431807634.0663 - accuracy: 0.3919 - val_loss: 57380454400.0000 - val_accuracy: 0.9870\n",
      "Epoch 8/100\n",
      "1376/1376 [==============================] - 1s 804us/step - loss: 4427459288.6807 - accuracy: 0.4005 - val_loss: 57380454400.0000 - val_accuracy: 0.9870\n",
      "Epoch 9/100\n",
      "1376/1376 [==============================] - 1s 805us/step - loss: 1060599425.0149 - accuracy: 0.3947 - val_loss: 57380454400.0000 - val_accuracy: 0.9870\n",
      "Epoch 10/100\n",
      "1376/1376 [==============================] - 1s 806us/step - loss: 2897008948.6676 - accuracy: 0.4008 - val_loss: 57380454400.0000 - val_accuracy: 0.9870\n",
      "Epoch 11/100\n",
      "1376/1376 [==============================] - 1s 845us/step - loss: 6525995392.8823 - accuracy: 0.3947 - val_loss: 57380454400.0000 - val_accuracy: 0.9870\n",
      "Epoch 12/100\n",
      "1376/1376 [==============================] - 1s 818us/step - loss: 6085391135.4148 - accuracy: 0.3989 - val_loss: 57380454400.0000 - val_accuracy: 0.9870\n",
      "Epoch 13/100\n",
      "1376/1376 [==============================] - 1s 858us/step - loss: 1836927553.3308 - accuracy: 0.3908 - val_loss: 57380454400.0000 - val_accuracy: 0.9870\n",
      "Epoch 14/100\n",
      "1376/1376 [==============================] - 1s 841us/step - loss: 2547542461.6456 - accuracy: 0.4027 - val_loss: 57380454400.0000 - val_accuracy: 0.9870\n",
      "Epoch 15/100\n",
      "1376/1376 [==============================] - 1s 834us/step - loss: 3895588712.3659 - accuracy: 0.3931 - val_loss: 57380454400.0000 - val_accuracy: 0.9870\n",
      "Epoch 16/100\n",
      "1376/1376 [==============================] - 1s 784us/step - loss: 1500716470.6043 - accuracy: 0.4044 - val_loss: 57380454400.0000 - val_accuracy: 0.9870\n",
      "Epoch 17/100\n",
      "1376/1376 [==============================] - 1s 808us/step - loss: 6661673153.9453 - accuracy: 0.4017 - val_loss: 57380454400.0000 - val_accuracy: 0.9870\n",
      "Epoch 18/100\n",
      "1376/1376 [==============================] - 1s 801us/step - loss: 2884989965.1698 - accuracy: 0.4025 - val_loss: 57380454400.0000 - val_accuracy: 0.9870\n",
      "Epoch 19/100\n",
      "1376/1376 [==============================] - 1s 809us/step - loss: 4397192994.3226 - accuracy: 0.4112 - val_loss: 57380454400.0000 - val_accuracy: 0.9870\n",
      "Epoch 20/100\n",
      "1376/1376 [==============================] - 1s 844us/step - loss: 1332901325.0250 - accuracy: 0.4003 - val_loss: 57380454400.0000 - val_accuracy: 0.9870\n",
      "Epoch 21/100\n",
      "1376/1376 [==============================] - 1s 815us/step - loss: 5006613706.8818 - accuracy: 0.4018 - val_loss: 57380454400.0000 - val_accuracy: 0.9870\n",
      "Epoch 22/100\n",
      "1376/1376 [==============================] - 1s 820us/step - loss: 844611240.1776 - accuracy: 0.4065 - val_loss: 57380454400.0000 - val_accuracy: 0.9870\n",
      "Epoch 23/100\n",
      "1376/1376 [==============================] - 1s 840us/step - loss: 3182669477.9563 - accuracy: 0.3855 - val_loss: 57380454400.0000 - val_accuracy: 0.9870\n",
      "Epoch 24/100\n",
      "1376/1376 [==============================] - 1s 853us/step - loss: 5030139256.8093 - accuracy: 0.3972 - val_loss: 57380454400.0000 - val_accuracy: 0.9870\n",
      "Epoch 25/100\n",
      "1376/1376 [==============================] - 1s 839us/step - loss: 8863845673.2490 - accuracy: 0.4091 - val_loss: 57380454400.0000 - val_accuracy: 0.9870\n",
      "Epoch 26/100\n",
      "1376/1376 [==============================] - 1s 850us/step - loss: 10076169392.6739 - accuracy: 0.3998 - val_loss: 57380454400.0000 - val_accuracy: 0.9870\n",
      "Epoch 27/100\n",
      "1376/1376 [==============================] - 1s 835us/step - loss: 3585388125.9374 - accuracy: 0.3974 - val_loss: 57380454400.0000 - val_accuracy: 0.9870\n",
      "Epoch 28/100\n",
      "1376/1376 [==============================] - 1s 841us/step - loss: 893449473.7846 - accuracy: 0.3973 - val_loss: 57380454400.0000 - val_accuracy: 0.9870\n",
      "Epoch 29/100\n",
      "1376/1376 [==============================] - 1s 849us/step - loss: 10983233595.2478 - accuracy: 0.3947 - val_loss: 57380454400.0000 - val_accuracy: 0.9870\n",
      "Epoch 30/100\n",
      "1376/1376 [==============================] - 1s 860us/step - loss: 5636737976.6120 - accuracy: 0.3896 - val_loss: 57380454400.0000 - val_accuracy: 0.9870\n",
      "Epoch 31/100\n",
      "1376/1376 [==============================] - 1s 848us/step - loss: 7420945167.7488 - accuracy: 0.4115 - val_loss: 57380454400.0000 - val_accuracy: 0.9870\n",
      "Epoch 32/100\n",
      "1376/1376 [==============================] - 1s 874us/step - loss: 6166925314.1340 - accuracy: 0.4087 - val_loss: 57380454400.0000 - val_accuracy: 0.9870\n",
      "Epoch 33/100\n",
      "1376/1376 [==============================] - 1s 855us/step - loss: 2089153962.7193 - accuracy: 0.4007 - val_loss: 57380454400.0000 - val_accuracy: 0.9870\n",
      "Epoch 34/100\n",
      "1376/1376 [==============================] - 1s 876us/step - loss: 7346906575.3970 - accuracy: 0.4084 - val_loss: 57380454400.0000 - val_accuracy: 0.9870\n",
      "Epoch 35/100\n",
      "1376/1376 [==============================] - 1s 850us/step - loss: 1514422192.6635 - accuracy: 0.4144 - val_loss: 57380454400.0000 - val_accuracy: 0.9870\n",
      "Epoch 36/100\n",
      "1376/1376 [==============================] - 1s 855us/step - loss: 6654823101.5577 - accuracy: 0.4143 - val_loss: 57380454400.0000 - val_accuracy: 0.9870\n",
      "Epoch 37/100\n",
      "1376/1376 [==============================] - 1s 866us/step - loss: 1991997069.1938 - accuracy: 0.3964 - val_loss: 57380454400.0000 - val_accuracy: 0.9870\n",
      "Epoch 38/100\n",
      "1376/1376 [==============================] - 1s 857us/step - loss: 2157784200.6986 - accuracy: 0.3939 - val_loss: 57380454400.0000 - val_accuracy: 0.9870\n",
      "Epoch 39/100\n",
      "1376/1376 [==============================] - 1s 845us/step - loss: 1226082773.9349 - accuracy: 0.3907 - val_loss: 57380454400.0000 - val_accuracy: 0.9870\n",
      "Epoch 40/100\n",
      "1376/1376 [==============================] - 1s 811us/step - loss: 4340490993.9644 - accuracy: 0.4062 - val_loss: 57380454400.0000 - val_accuracy: 0.9870\n",
      "Epoch 41/100\n",
      "1376/1376 [==============================] - 1s 853us/step - loss: 3843471438.8848 - accuracy: 0.4050 - val_loss: 57380454400.0000 - val_accuracy: 0.9870\n",
      "Epoch 42/100\n",
      "1376/1376 [==============================] - 1s 871us/step - loss: 4846101604.3374 - accuracy: 0.4112 - val_loss: 57380454400.0000 - val_accuracy: 0.9870\n",
      "Epoch 43/100\n",
      "1376/1376 [==============================] - 1s 850us/step - loss: 7888649618.3243 - accuracy: 0.3948 - val_loss: 57380454400.0000 - val_accuracy: 0.9870\n",
      "Epoch 44/100\n",
      "1376/1376 [==============================] - 1s 858us/step - loss: 3085771127.3057 - accuracy: 0.3906 - val_loss: 57380454400.0000 - val_accuracy: 0.9870\n",
      "Epoch 45/100\n",
      "1376/1376 [==============================] - 1s 884us/step - loss: 1057104675.3949 - accuracy: 0.4034 - val_loss: 57380454400.0000 - val_accuracy: 0.9870\n",
      "Epoch 46/100\n",
      "1376/1376 [==============================] - 1s 831us/step - loss: 710308536.7699 - accuracy: 0.3948 - val_loss: 57380454400.0000 - val_accuracy: 0.9870\n",
      "Epoch 47/100\n",
      "1376/1376 [==============================] - 1s 891us/step - loss: 6312310374.6359 - accuracy: 0.3839 - val_loss: 57380454400.0000 - val_accuracy: 0.9870\n",
      "Epoch 48/100\n",
      "1376/1376 [==============================] - 1s 891us/step - loss: 1181060527.3907 - accuracy: 0.4034 - val_loss: 57380454400.0000 - val_accuracy: 0.9870\n",
      "Epoch 49/100\n",
      "1376/1376 [==============================] - 1s 831us/step - loss: 4927130344.2889 - accuracy: 0.4011 - val_loss: 57380454400.0000 - val_accuracy: 0.9870\n",
      "Epoch 50/100\n"
     ]
    },
    {
     "name": "stdout",
     "output_type": "stream",
     "text": [
      "1376/1376 [==============================] - 1s 818us/step - loss: 2733561246.5114 - accuracy: 0.3892 - val_loss: 57380454400.0000 - val_accuracy: 0.9870\n",
      "Epoch 51/100\n",
      "1376/1376 [==============================] - 1s 816us/step - loss: 5810444043.5068 - accuracy: 0.4058 - val_loss: 57380454400.0000 - val_accuracy: 0.9870\n",
      "Epoch 52/100\n",
      "1376/1376 [==============================] - 1s 825us/step - loss: 2757937244.4802 - accuracy: 0.4058 - val_loss: 57380454400.0000 - val_accuracy: 0.9870\n",
      "Epoch 53/100\n",
      "1376/1376 [==============================] - 1s 834us/step - loss: 13052557615.3658 - accuracy: 0.4102 - val_loss: 57380454400.0000 - val_accuracy: 0.9870\n",
      "Epoch 54/100\n",
      "1376/1376 [==============================] - 1s 853us/step - loss: 4178056011.0035 - accuracy: 0.4081 - val_loss: 57380454400.0000 - val_accuracy: 0.9870\n",
      "Epoch 55/100\n",
      "1376/1376 [==============================] - 1s 895us/step - loss: 3010349898.2942 - accuracy: 0.4022 - val_loss: 57380454400.0000 - val_accuracy: 0.9870\n",
      "Epoch 56/100\n",
      "1376/1376 [==============================] - 1s 857us/step - loss: 2882481808.0019 - accuracy: 0.4060 - val_loss: 57380454400.0000 - val_accuracy: 0.9870\n",
      "Epoch 57/100\n",
      "1376/1376 [==============================] - 1s 841us/step - loss: 1152730172.0145 - accuracy: 0.3984 - val_loss: 57380454400.0000 - val_accuracy: 0.9870\n",
      "Epoch 58/100\n",
      "1376/1376 [==============================] - 1s 863us/step - loss: 3007895187.5148 - accuracy: 0.3974 - val_loss: 57380454400.0000 - val_accuracy: 0.9870\n",
      "Epoch 59/100\n",
      "1376/1376 [==============================] - 1s 822us/step - loss: 3464315884.6776 - accuracy: 0.3972 - val_loss: 57380454400.0000 - val_accuracy: 0.9870\n",
      "Epoch 60/100\n",
      "1376/1376 [==============================] - 1s 829us/step - loss: 4410973599.4558 - accuracy: 0.3996 - val_loss: 57380454400.0000 - val_accuracy: 0.9870\n",
      "Epoch 61/100\n",
      "1376/1376 [==============================] - 1s 845us/step - loss: 2403150882.4435 - accuracy: 0.4012 - val_loss: 57380454400.0000 - val_accuracy: 0.9870\n",
      "Epoch 62/100\n",
      "1376/1376 [==============================] - 1s 853us/step - loss: 1368757380.9045 - accuracy: 0.3973 - val_loss: 57380454400.0000 - val_accuracy: 0.9870\n",
      "Epoch 63/100\n",
      "1376/1376 [==============================] - 1s 833us/step - loss: 7146460980.4463 - accuracy: 0.3998 - val_loss: 57380454400.0000 - val_accuracy: 0.9870\n",
      "Epoch 64/100\n",
      "1376/1376 [==============================] - 1s 843us/step - loss: 2663839937.3202 - accuracy: 0.4000 - val_loss: 57380454400.0000 - val_accuracy: 0.9870\n",
      "Epoch 65/100\n",
      "1376/1376 [==============================] - 1s 841us/step - loss: 876193733.6042 - accuracy: 0.4035 - val_loss: 57380454400.0000 - val_accuracy: 0.9870\n",
      "Epoch 66/100\n",
      "1376/1376 [==============================] - 1s 832us/step - loss: 1457202957.5315 - accuracy: 0.3924 - val_loss: 57380454400.0000 - val_accuracy: 0.9870\n",
      "Epoch 67/100\n",
      "1376/1376 [==============================] - 1s 853us/step - loss: 9970484008.1023 - accuracy: 0.4000 - val_loss: 57380454400.0000 - val_accuracy: 0.9870\n",
      "Epoch 68/100\n",
      "1376/1376 [==============================] - 1s 879us/step - loss: 2130831891.4057 - accuracy: 0.3979 - val_loss: 57380454400.0000 - val_accuracy: 0.9870\n",
      "Epoch 69/100\n",
      "1376/1376 [==============================] - 1s 841us/step - loss: 1856621470.5550 - accuracy: 0.3900 - val_loss: 57380454400.0000 - val_accuracy: 0.9870\n",
      "Epoch 70/100\n",
      "1376/1376 [==============================] - 1s 840us/step - loss: 2431227866.4393 - accuracy: 0.4023 - val_loss: 57380454400.0000 - val_accuracy: 0.9870\n",
      "Epoch 71/100\n",
      "1376/1376 [==============================] - 1s 850us/step - loss: 1944910639.9365 - accuracy: 0.4031 - val_loss: 57380454400.0000 - val_accuracy: 0.9870\n",
      "Epoch 72/100\n",
      "1376/1376 [==============================] - 1s 839us/step - loss: 6185092977.0632 - accuracy: 0.4045 - val_loss: 57380454400.0000 - val_accuracy: 0.9870\n",
      "Epoch 73/100\n",
      "1376/1376 [==============================] - 1s 848us/step - loss: 2523254952.9322 - accuracy: 0.3904 - val_loss: 57380454400.0000 - val_accuracy: 0.9870\n",
      "Epoch 74/100\n",
      "1376/1376 [==============================] - 1s 834us/step - loss: 5145042672.6461 - accuracy: 0.4041 - val_loss: 57380454400.0000 - val_accuracy: 0.9870\n",
      "Epoch 75/100\n",
      "1376/1376 [==============================] - 1s 846us/step - loss: 1503297715.7043 - accuracy: 0.4046 - val_loss: 57380454400.0000 - val_accuracy: 0.9870\n",
      "Epoch 76/100\n",
      "1376/1376 [==============================] - 1s 893us/step - loss: 5753168380.0523 - accuracy: 0.4018 - val_loss: 57380454400.0000 - val_accuracy: 0.9870\n",
      "Epoch 77/100\n",
      "1376/1376 [==============================] - 1s 848us/step - loss: 1318266213.1986 - accuracy: 0.4007 - val_loss: 57380454400.0000 - val_accuracy: 0.9870\n",
      "Epoch 78/100\n",
      "1376/1376 [==============================] - 1s 827us/step - loss: 2527674158.5651 - accuracy: 0.3894 - val_loss: 57380454400.0000 - val_accuracy: 0.9870\n",
      "Epoch 79/100\n",
      "1376/1376 [==============================] - 1s 849us/step - loss: 907497097.0386 - accuracy: 0.3864 - val_loss: 57380454400.0000 - val_accuracy: 0.9870\n",
      "Epoch 80/100\n",
      "1376/1376 [==============================] - 1s 844us/step - loss: 5168915985.5662 - accuracy: 0.3980 - val_loss: 57380454400.0000 - val_accuracy: 0.9870\n",
      "Epoch 81/100\n",
      "1376/1376 [==============================] - 1s 834us/step - loss: 8280602373.6002 - accuracy: 0.3959 - val_loss: 57380454400.0000 - val_accuracy: 0.9870\n",
      "Epoch 82/100\n",
      "1376/1376 [==============================] - 1s 837us/step - loss: 3515021579.6149 - accuracy: 0.4139 - val_loss: 57380454400.0000 - val_accuracy: 0.9870\n",
      "Epoch 83/100\n",
      "1376/1376 [==============================] - 1s 841us/step - loss: 911232832.0195 - accuracy: 0.3882 - val_loss: 57380454400.0000 - val_accuracy: 0.9870\n",
      "Epoch 84/100\n",
      "1376/1376 [==============================] - 1s 827us/step - loss: 2989134402.6393 - accuracy: 0.4105 - val_loss: 57380454400.0000 - val_accuracy: 0.9870\n",
      "Epoch 85/100\n",
      "1376/1376 [==============================] - 1s 864us/step - loss: 1781148819.3085 - accuracy: 0.4107 - val_loss: 57380454400.0000 - val_accuracy: 0.9870\n",
      "Epoch 86/100\n",
      "1376/1376 [==============================] - 1s 851us/step - loss: 3084622469.5111 - accuracy: 0.4041 - val_loss: 57380454400.0000 - val_accuracy: 0.9870\n",
      "Epoch 87/100\n",
      "1376/1376 [==============================] - 1s 853us/step - loss: 1001044640.5042 - accuracy: 0.3988 - val_loss: 57380454400.0000 - val_accuracy: 0.9870\n",
      "Epoch 88/100\n",
      "1376/1376 [==============================] - 1s 841us/step - loss: 947755771.8377 - accuracy: 0.4065 - val_loss: 57380454400.0000 - val_accuracy: 0.9870\n",
      "Epoch 89/100\n",
      "1376/1376 [==============================] - 1s 861us/step - loss: 2502207894.9433 - accuracy: 0.3991 - val_loss: 57380454400.0000 - val_accuracy: 0.9870\n",
      "Epoch 90/100\n",
      "1376/1376 [==============================] - 1s 847us/step - loss: 3773354609.8225 - accuracy: 0.4000 - val_loss: 57380454400.0000 - val_accuracy: 0.9870\n",
      "Epoch 91/100\n",
      "1376/1376 [==============================] - 1s 835us/step - loss: 2452708005.4577 - accuracy: 0.3916 - val_loss: 57380454400.0000 - val_accuracy: 0.9870\n",
      "Epoch 92/100\n",
      "1376/1376 [==============================] - 1s 832us/step - loss: 3943475020.0738 - accuracy: 0.3870 - val_loss: 57380454400.0000 - val_accuracy: 0.9870\n",
      "Epoch 93/100\n",
      "1376/1376 [==============================] - 1s 840us/step - loss: 10454116941.9131 - accuracy: 0.3891 - val_loss: 57380454400.0000 - val_accuracy: 0.9870\n",
      "Epoch 94/100\n",
      "1376/1376 [==============================] - 1s 817us/step - loss: 16117802899.5825 - accuracy: 0.3977 - val_loss: 57380454400.0000 - val_accuracy: 0.9870\n",
      "Epoch 95/100\n",
      "1376/1376 [==============================] - 1s 868us/step - loss: 1684503348.5268 - accuracy: 0.3857 - val_loss: 57380454400.0000 - val_accuracy: 0.9870\n",
      "Epoch 96/100\n",
      "1376/1376 [==============================] - 1s 837us/step - loss: 5728807483.3756 - accuracy: 0.3974 - val_loss: 57380454400.0000 - val_accuracy: 0.9870\n",
      "Epoch 97/100\n",
      "1376/1376 [==============================] - 1s 866us/step - loss: 3138591081.5089 - accuracy: 0.4090 - val_loss: 57380454400.0000 - val_accuracy: 0.9870\n",
      "Epoch 98/100\n",
      "1376/1376 [==============================] - 1s 858us/step - loss: 9942753012.5583 - accuracy: 0.4090 - val_loss: 57380454400.0000 - val_accuracy: 0.9870\n",
      "Epoch 99/100\n"
     ]
    },
    {
     "name": "stdout",
     "output_type": "stream",
     "text": [
      "1376/1376 [==============================] - 1s 865us/step - loss: 3563389045.4930 - accuracy: 0.4070 - val_loss: 57380454400.0000 - val_accuracy: 0.9870\n",
      "Epoch 100/100\n",
      "1376/1376 [==============================] - 1s 884us/step - loss: 3619519229.1000 - accuracy: 0.3976 - val_loss: 57380454400.0000 - val_accuracy: 0.9870\n"
     ]
    }
   ],
   "source": [
    "history=model.fit(X2_train, y_train, validation_split=0.3, batch_size = 3, epochs = 100, callbacks=[checkpoint], initial_epoch=0)"
   ]
  },
  {
   "cell_type": "code",
   "execution_count": 14,
   "metadata": {
    "scrolled": true
   },
   "outputs": [
    {
     "name": "stdout",
     "output_type": "stream",
     "text": [
      "dict_keys(['loss', 'accuracy', 'val_loss', 'val_accuracy'])\n"
     ]
    },
    {
     "data": {
      "image/png": "[encoded data removed]",
      "text/plain": [
       "<Figure size 432x288 with 1 Axes>"
      ]
     },
     "metadata": {
      "needs_background": "light"
     },
     "output_type": "display_data"
    }
   ],
   "source": [
    "print(history.history.keys())\n",
    "plt.plot(history.history['accuracy'])\n",
    "plt.plot(history.history['val_accuracy'])\n",
    "plt.title('model accuracy')\n",
    "plt.ylabel('accuracy')\n",
    "plt.xlabel('epoch')\n",
    "plt.legend(['train', 'test'], loc='upper left')\n",
    "plt.show()"
   ]
  },
  {
   "cell_type": "code",
   "execution_count": 15,
   "metadata": {},
   "outputs": [
    {
     "name": "stdout",
     "output_type": "stream",
     "text": [
      "dict_keys(['loss', 'accuracy', 'val_loss', 'val_accuracy'])\n"
     ]
    },
    {
     "data": {
      "image/png": "[encoded data removed]",
      "text/plain": [
       "<Figure size 432x288 with 1 Axes>"
      ]
     },
     "metadata": {
      "needs_background": "light"
     },
     "output_type": "display_data"
    }
   ],
   "source": [
    "print(history.history.keys())\n",
    "plt.plot(history.history['loss'])\n",
    "plt.plot(history.history['val_loss'])\n",
    "plt.title('model loss')\n",
    "plt.ylabel('loss')\n",
    "plt.xlabel('epoch')\n",
    "plt.legend(['train', 'test'], loc='upper left')\n",
    "plt.show()"
   ]
  },
  {
   "cell_type": "code",
   "execution_count": 16,
   "metadata": {},
   "outputs": [
    {
     "ename": "FileNotFoundError",
     "evalue": "[Errno 2] File data/final_input_testing.csv does not exist: 'data/final_input_testing.csv'",
     "output_type": "error",
     "traceback": [
      "\u001b[1;31m---------------------------------------------------------------------------\u001b[0m",
      "\u001b[1;31mFileNotFoundError\u001b[0m                         Traceback (most recent call last)",
      "\u001b[1;32m<ipython-input-16-430c78f58555>\u001b[0m in \u001b[0;36m<module>\u001b[1;34m\u001b[0m\n\u001b[0;32m      4\u001b[0m \u001b[1;33m\u001b[0m\u001b[0m\n\u001b[0;32m      5\u001b[0m \u001b[1;31m# Predicting the number of jobs for future\u001b[0m\u001b[1;33m\u001b[0m\u001b[1;33m\u001b[0m\u001b[1;33m\u001b[0m\u001b[0m\n\u001b[1;32m----> 6\u001b[1;33m \u001b[0mtest_set\u001b[0m \u001b[1;33m=\u001b[0m \u001b[0mpd\u001b[0m\u001b[1;33m.\u001b[0m\u001b[0mread_csv\u001b[0m\u001b[1;33m(\u001b[0m\u001b[1;34m'data/final_input_testing.csv'\u001b[0m\u001b[1;33m)\u001b[0m\u001b[1;33m\u001b[0m\u001b[1;33m\u001b[0m\u001b[0m\n\u001b[0m\u001b[0;32m      7\u001b[0m \u001b[1;31m#print(test_set[1])\u001b[0m\u001b[1;33m\u001b[0m\u001b[1;33m\u001b[0m\u001b[1;33m\u001b[0m\u001b[0m\n\u001b[0;32m      8\u001b[0m \u001b[0mreal_value\u001b[0m \u001b[1;33m=\u001b[0m \u001b[0mtest_set\u001b[0m\u001b[1;33m.\u001b[0m\u001b[0miloc\u001b[0m\u001b[1;33m[\u001b[0m\u001b[1;33m:\u001b[0m\u001b[1;33m,\u001b[0m\u001b[1;36m1\u001b[0m\u001b[1;33m:\u001b[0m\u001b[1;36m2\u001b[0m\u001b[1;33m]\u001b[0m\u001b[1;33m.\u001b[0m\u001b[0mvalues\u001b[0m\u001b[1;33m\u001b[0m\u001b[1;33m\u001b[0m\u001b[0m\n",
      "\u001b[1;32mC:\\ProgramData\\Anaconda3\\lib\\site-packages\\pandas\\io\\parsers.py\u001b[0m in \u001b[0;36mparser_f\u001b[1;34m(filepath_or_buffer, sep, delimiter, header, names, index_col, usecols, squeeze, prefix, mangle_dupe_cols, dtype, engine, converters, true_values, false_values, skipinitialspace, skiprows, skipfooter, nrows, na_values, keep_default_na, na_filter, verbose, skip_blank_lines, parse_dates, infer_datetime_format, keep_date_col, date_parser, dayfirst, cache_dates, iterator, chunksize, compression, thousands, decimal, lineterminator, quotechar, quoting, doublequote, escapechar, comment, encoding, dialect, error_bad_lines, warn_bad_lines, delim_whitespace, low_memory, memory_map, float_precision)\u001b[0m\n\u001b[0;32m    674\u001b[0m         )\n\u001b[0;32m    675\u001b[0m \u001b[1;33m\u001b[0m\u001b[0m\n\u001b[1;32m--> 676\u001b[1;33m         \u001b[1;32mreturn\u001b[0m \u001b[0m_read\u001b[0m\u001b[1;33m(\u001b[0m\u001b[0mfilepath_or_buffer\u001b[0m\u001b[1;33m,\u001b[0m \u001b[0mkwds\u001b[0m\u001b[1;33m)\u001b[0m\u001b[1;33m\u001b[0m\u001b[1;33m\u001b[0m\u001b[0m\n\u001b[0m\u001b[0;32m    677\u001b[0m \u001b[1;33m\u001b[0m\u001b[0m\n\u001b[0;32m    678\u001b[0m     \u001b[0mparser_f\u001b[0m\u001b[1;33m.\u001b[0m\u001b[0m__name__\u001b[0m \u001b[1;33m=\u001b[0m \u001b[0mname\u001b[0m\u001b[1;33m\u001b[0m\u001b[1;33m\u001b[0m\u001b[0m\n",
      "\u001b[1;32mC:\\ProgramData\\Anaconda3\\lib\\site-packages\\pandas\\io\\parsers.py\u001b[0m in \u001b[0;36m_read\u001b[1;34m(filepath_or_buffer, kwds)\u001b[0m\n\u001b[0;32m    446\u001b[0m \u001b[1;33m\u001b[0m\u001b[0m\n\u001b[0;32m    447\u001b[0m     \u001b[1;31m# Create the parser.\u001b[0m\u001b[1;33m\u001b[0m\u001b[1;33m\u001b[0m\u001b[1;33m\u001b[0m\u001b[0m\n\u001b[1;32m--> 448\u001b[1;33m     \u001b[0mparser\u001b[0m \u001b[1;33m=\u001b[0m \u001b[0mTextFileReader\u001b[0m\u001b[1;33m(\u001b[0m\u001b[0mfp_or_buf\u001b[0m\u001b[1;33m,\u001b[0m \u001b[1;33m**\u001b[0m\u001b[0mkwds\u001b[0m\u001b[1;33m)\u001b[0m\u001b[1;33m\u001b[0m\u001b[1;33m\u001b[0m\u001b[0m\n\u001b[0m\u001b[0;32m    449\u001b[0m \u001b[1;33m\u001b[0m\u001b[0m\n\u001b[0;32m    450\u001b[0m     \u001b[1;32mif\u001b[0m \u001b[0mchunksize\u001b[0m \u001b[1;32mor\u001b[0m \u001b[0miterator\u001b[0m\u001b[1;33m:\u001b[0m\u001b[1;33m\u001b[0m\u001b[1;33m\u001b[0m\u001b[0m\n",
      "\u001b[1;32mC:\\ProgramData\\Anaconda3\\lib\\site-packages\\pandas\\io\\parsers.py\u001b[0m in \u001b[0;36m__init__\u001b[1;34m(self, f, engine, **kwds)\u001b[0m\n\u001b[0;32m    878\u001b[0m             \u001b[0mself\u001b[0m\u001b[1;33m.\u001b[0m\u001b[0moptions\u001b[0m\u001b[1;33m[\u001b[0m\u001b[1;34m\"has_index_names\"\u001b[0m\u001b[1;33m]\u001b[0m \u001b[1;33m=\u001b[0m \u001b[0mkwds\u001b[0m\u001b[1;33m[\u001b[0m\u001b[1;34m\"has_index_names\"\u001b[0m\u001b[1;33m]\u001b[0m\u001b[1;33m\u001b[0m\u001b[1;33m\u001b[0m\u001b[0m\n\u001b[0;32m    879\u001b[0m \u001b[1;33m\u001b[0m\u001b[0m\n\u001b[1;32m--> 880\u001b[1;33m         \u001b[0mself\u001b[0m\u001b[1;33m.\u001b[0m\u001b[0m_make_engine\u001b[0m\u001b[1;33m(\u001b[0m\u001b[0mself\u001b[0m\u001b[1;33m.\u001b[0m\u001b[0mengine\u001b[0m\u001b[1;33m)\u001b[0m\u001b[1;33m\u001b[0m\u001b[1;33m\u001b[0m\u001b[0m\n\u001b[0m\u001b[0;32m    881\u001b[0m \u001b[1;33m\u001b[0m\u001b[0m\n\u001b[0;32m    882\u001b[0m     \u001b[1;32mdef\u001b[0m \u001b[0mclose\u001b[0m\u001b[1;33m(\u001b[0m\u001b[0mself\u001b[0m\u001b[1;33m)\u001b[0m\u001b[1;33m:\u001b[0m\u001b[1;33m\u001b[0m\u001b[1;33m\u001b[0m\u001b[0m\n",
      "\u001b[1;32mC:\\ProgramData\\Anaconda3\\lib\\site-packages\\pandas\\io\\parsers.py\u001b[0m in \u001b[0;36m_make_engine\u001b[1;34m(self, engine)\u001b[0m\n\u001b[0;32m   1112\u001b[0m     \u001b[1;32mdef\u001b[0m \u001b[0m_make_engine\u001b[0m\u001b[1;33m(\u001b[0m\u001b[0mself\u001b[0m\u001b[1;33m,\u001b[0m \u001b[0mengine\u001b[0m\u001b[1;33m=\u001b[0m\u001b[1;34m\"c\"\u001b[0m\u001b[1;33m)\u001b[0m\u001b[1;33m:\u001b[0m\u001b[1;33m\u001b[0m\u001b[1;33m\u001b[0m\u001b[0m\n\u001b[0;32m   1113\u001b[0m         \u001b[1;32mif\u001b[0m \u001b[0mengine\u001b[0m \u001b[1;33m==\u001b[0m \u001b[1;34m\"c\"\u001b[0m\u001b[1;33m:\u001b[0m\u001b[1;33m\u001b[0m\u001b[1;33m\u001b[0m\u001b[0m\n\u001b[1;32m-> 1114\u001b[1;33m             \u001b[0mself\u001b[0m\u001b[1;33m.\u001b[0m\u001b[0m_engine\u001b[0m \u001b[1;33m=\u001b[0m \u001b[0mCParserWrapper\u001b[0m\u001b[1;33m(\u001b[0m\u001b[0mself\u001b[0m\u001b[1;33m.\u001b[0m\u001b[0mf\u001b[0m\u001b[1;33m,\u001b[0m \u001b[1;33m**\u001b[0m\u001b[0mself\u001b[0m\u001b[1;33m.\u001b[0m\u001b[0moptions\u001b[0m\u001b[1;33m)\u001b[0m\u001b[1;33m\u001b[0m\u001b[1;33m\u001b[0m\u001b[0m\n\u001b[0m\u001b[0;32m   1115\u001b[0m         \u001b[1;32melse\u001b[0m\u001b[1;33m:\u001b[0m\u001b[1;33m\u001b[0m\u001b[1;33m\u001b[0m\u001b[0m\n\u001b[0;32m   1116\u001b[0m             \u001b[1;32mif\u001b[0m \u001b[0mengine\u001b[0m \u001b[1;33m==\u001b[0m \u001b[1;34m\"python\"\u001b[0m\u001b[1;33m:\u001b[0m\u001b[1;33m\u001b[0m\u001b[1;33m\u001b[0m\u001b[0m\n",
      "\u001b[1;32mC:\\ProgramData\\Anaconda3\\lib\\site-packages\\pandas\\io\\parsers.py\u001b[0m in \u001b[0;36m__init__\u001b[1;34m(self, src, **kwds)\u001b[0m\n\u001b[0;32m   1889\u001b[0m         \u001b[0mkwds\u001b[0m\u001b[1;33m[\u001b[0m\u001b[1;34m\"usecols\"\u001b[0m\u001b[1;33m]\u001b[0m \u001b[1;33m=\u001b[0m \u001b[0mself\u001b[0m\u001b[1;33m.\u001b[0m\u001b[0musecols\u001b[0m\u001b[1;33m\u001b[0m\u001b[1;33m\u001b[0m\u001b[0m\n\u001b[0;32m   1890\u001b[0m \u001b[1;33m\u001b[0m\u001b[0m\n\u001b[1;32m-> 1891\u001b[1;33m         \u001b[0mself\u001b[0m\u001b[1;33m.\u001b[0m\u001b[0m_reader\u001b[0m \u001b[1;33m=\u001b[0m \u001b[0mparsers\u001b[0m\u001b[1;33m.\u001b[0m\u001b[0mTextReader\u001b[0m\u001b[1;33m(\u001b[0m\u001b[0msrc\u001b[0m\u001b[1;33m,\u001b[0m \u001b[1;33m**\u001b[0m\u001b[0mkwds\u001b[0m\u001b[1;33m)\u001b[0m\u001b[1;33m\u001b[0m\u001b[1;33m\u001b[0m\u001b[0m\n\u001b[0m\u001b[0;32m   1892\u001b[0m         \u001b[0mself\u001b[0m\u001b[1;33m.\u001b[0m\u001b[0munnamed_cols\u001b[0m \u001b[1;33m=\u001b[0m \u001b[0mself\u001b[0m\u001b[1;33m.\u001b[0m\u001b[0m_reader\u001b[0m\u001b[1;33m.\u001b[0m\u001b[0munnamed_cols\u001b[0m\u001b[1;33m\u001b[0m\u001b[1;33m\u001b[0m\u001b[0m\n\u001b[0;32m   1893\u001b[0m \u001b[1;33m\u001b[0m\u001b[0m\n",
      "\u001b[1;32mpandas\\_libs\\parsers.pyx\u001b[0m in \u001b[0;36mpandas._libs.parsers.TextReader.__cinit__\u001b[1;34m()\u001b[0m\n",
      "\u001b[1;32mpandas\\_libs\\parsers.pyx\u001b[0m in \u001b[0;36mpandas._libs.parsers.TextReader._setup_parser_source\u001b[1;34m()\u001b[0m\n",
      "\u001b[1;31mFileNotFoundError\u001b[0m: [Errno 2] File data/final_input_testing.csv does not exist: 'data/final_input_testing.csv'"
     ]
    }
   ],
   "source": [
    "import time\n",
    "\n",
    "time_start = time.process_time()\n",
    "\n",
    "# Predicting the number of jobs for future\n",
    "test_set = pd.read_csv('data/final_input_testing.csv')\n",
    "#print(test_set[1])\n",
    "real_value = test_set.iloc[:,1:2].values\n",
    "\n",
    "\n",
    "# Getting the predicted jobs of previous values\n",
    "inputs = real_value\n",
    "inputs = sc.transform(inputs)\n",
    "inputs = np.reshape(inputs, (103, 1, 1))\n",
    "predicted_job = model.predict(inputs)\n",
    "predicted_job = sc.inverse_transform(predicted_job)\n"
   ]
  },
  {
   "cell_type": "code",
   "execution_count": null,
   "metadata": {
    "scrolled": true
   },
   "outputs": [],
   "source": [
    "predicted_job"
   ]
  },
  {
   "cell_type": "code",
   "execution_count": null,
   "metadata": {},
   "outputs": [],
   "source": [
    "fig=plt.figure(figsize=(12,8))\n",
    "plt.title('Resource Allocation')\n",
    "plt.xlabel('Time interval')\n",
    "plt.ylabel('Number of instances')\n",
    "plt.plot(test_set.time_interval,predicted_job,color='red', linestyle='dashed')\n",
    "plt.scatter(df.time_interval,df.no_of_instances,color='blue')\n",
    "\n",
    "plt.show()"
   ]
  },
  {
   "cell_type": "code",
   "execution_count": null,
   "metadata": {},
   "outputs": [],
   "source": [
    "import math\n",
    "from sklearn.metrics import mean_squared_error\n",
    "rmse = math.sqrt(mean_squared_error(real_value, predicted_job))\n",
    "print('rmse',rmse)"
   ]
  },
  {
   "cell_type": "code",
   "execution_count": null,
   "metadata": {},
   "outputs": [],
   "source": [
    "for i in range(len(real_value)): \n",
    "    obs=real_value[i]\n",
    "    yhat=predicted_job[i]\n",
    "    APE=abs((yhat-obs)/obs)\n",
    "    sumAPE=0\n",
    "    sumAPE=sumAPE+APE\n",
    "MAPE=(sumAPE/(len(real_value)))\n",
    "print(MAPE)"
   ]
  },
  {
   "cell_type": "code",
   "execution_count": null,
   "metadata": {},
   "outputs": [],
   "source": []
  }
 ],
 "metadata": {
  "kernelspec": {
   "display_name": "Python 3",
   "language": "python",
   "name": "python3"
  },
  "language_info": {
   "codemirror_mode": {
    "name": "ipython",
    "version": 3
   },
   "file_extension": ".py",
   "mimetype": "text/x-python",
   "name": "python",
   "nbconvert_exporter": "python",
   "pygments_lexer": "ipython3",
   "version": "3.7.6"
  }
 },
 "nbformat": 4,
 "nbformat_minor": 4
}
