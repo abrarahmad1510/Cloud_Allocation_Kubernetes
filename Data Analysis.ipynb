{
 "cells": [
  {
   "cell_type": "code",
   "execution_count": 1,
   "metadata": {
    "pycharm": {
     "name": "#%%\n"
    }
   },
   "outputs": [],
   "source": [
    "import pandas as pd\n",
    "import matplotlib.pyplot as plt\n",
    "import numpy as np"
   ]
  },
  {
   "cell_type": "code",
   "execution_count": 2,
   "metadata": {},
   "outputs": [],
   "source": [
    "container_event_column_name = ['container_id', 'machine_id', 'time_stamp', 'app_du', 'status',\n",
    "                               'cpu_request', 'cpu_limit', 'mem_size']\n",
    "container_usage_column_name = ['container_id', 'machine_id', 'time_stamp', 'cpu_util_percent', 'mem_util_percent', 'cpi', 'mem_gps',\n",
    "                               'mpki', 'net_in', 'net_out', 'disk_io_percent']\n"
   ]
  },
  {
   "cell_type": "code",
   "execution_count": 3,
   "metadata": {
    "pycharm": {
     "name": "#%%\n"
    }
   },
   "outputs": [
    {
     "data": {
      "text/html": [
       "<div>\n",
       "<style scoped>\n",
       "    .dataframe tbody tr th:only-of-type {\n",
       "        vertical-align: middle;\n",
       "    }\n",
       "\n",
       "    .dataframe tbody tr th {\n",
       "        vertical-align: top;\n",
       "    }\n",
       "\n",
       "    .dataframe thead th {\n",
       "        text-align: right;\n",
       "    }\n",
       "</style>\n",
       "<table border=\"1\" class=\"dataframe\">\n",
       "  <thead>\n",
       "    <tr style=\"text-align: right;\">\n",
       "      <th></th>\n",
       "      <th>Unnamed: 0</th>\n",
       "      <th>m_108</th>\n",
       "      <th>696330</th>\n",
       "      <th>20</th>\n",
       "      <th>56</th>\n",
       "      <th>Unnamed: 5</th>\n",
       "      <th>Unnamed: 6</th>\n",
       "      <th>Unnamed: 7</th>\n",
       "      <th>0</th>\n",
       "      <th>0.1</th>\n",
       "      <th>2</th>\n",
       "    </tr>\n",
       "  </thead>\n",
       "  <tbody>\n",
       "    <tr>\n",
       "      <th>0</th>\n",
       "      <td>NaN</td>\n",
       "      <td>m_108</td>\n",
       "      <td>698570</td>\n",
       "      <td>14</td>\n",
       "      <td>64</td>\n",
       "      <td>1.56</td>\n",
       "      <td>0.00</td>\n",
       "      <td>0.0</td>\n",
       "      <td>0.0</td>\n",
       "      <td>0.00</td>\n",
       "      <td>4.0</td>\n",
       "    </tr>\n",
       "    <tr>\n",
       "      <th>1</th>\n",
       "      <td>NaN</td>\n",
       "      <td>m_108</td>\n",
       "      <td>698620</td>\n",
       "      <td>12</td>\n",
       "      <td>64</td>\n",
       "      <td>1.46</td>\n",
       "      <td>0.03</td>\n",
       "      <td>0.0</td>\n",
       "      <td>0.0</td>\n",
       "      <td>0.00</td>\n",
       "      <td>4.0</td>\n",
       "    </tr>\n",
       "    <tr>\n",
       "      <th>2</th>\n",
       "      <td>NaN</td>\n",
       "      <td>m_108</td>\n",
       "      <td>698670</td>\n",
       "      <td>10</td>\n",
       "      <td>64</td>\n",
       "      <td>1.74</td>\n",
       "      <td>0.00</td>\n",
       "      <td>0.0</td>\n",
       "      <td>0.0</td>\n",
       "      <td>0.00</td>\n",
       "      <td>5.0</td>\n",
       "    </tr>\n",
       "    <tr>\n",
       "      <th>3</th>\n",
       "      <td>NaN</td>\n",
       "      <td>m_108</td>\n",
       "      <td>699740</td>\n",
       "      <td>7</td>\n",
       "      <td>65</td>\n",
       "      <td>1.57</td>\n",
       "      <td>0.02</td>\n",
       "      <td>0.0</td>\n",
       "      <td>0.0</td>\n",
       "      <td>0.00</td>\n",
       "      <td>6.0</td>\n",
       "    </tr>\n",
       "    <tr>\n",
       "      <th>4</th>\n",
       "      <td>NaN</td>\n",
       "      <td>m_108</td>\n",
       "      <td>700010</td>\n",
       "      <td>8</td>\n",
       "      <td>64</td>\n",
       "      <td>1.90</td>\n",
       "      <td>0.00</td>\n",
       "      <td>0.0</td>\n",
       "      <td>0.0</td>\n",
       "      <td>0.00</td>\n",
       "      <td>4.0</td>\n",
       "    </tr>\n",
       "    <tr>\n",
       "      <th>...</th>\n",
       "      <td>...</td>\n",
       "      <td>...</td>\n",
       "      <td>...</td>\n",
       "      <td>...</td>\n",
       "      <td>...</td>\n",
       "      <td>...</td>\n",
       "      <td>...</td>\n",
       "      <td>...</td>\n",
       "      <td>...</td>\n",
       "      <td>...</td>\n",
       "      <td>...</td>\n",
       "    </tr>\n",
       "    <tr>\n",
       "      <th>99996</th>\n",
       "      <td>c_10097</td>\n",
       "      <td>m_1596</td>\n",
       "      <td>731090</td>\n",
       "      <td>4</td>\n",
       "      <td>100</td>\n",
       "      <td>1.19</td>\n",
       "      <td>0.00</td>\n",
       "      <td>0.0</td>\n",
       "      <td>0.1</td>\n",
       "      <td>0.12</td>\n",
       "      <td>14.0</td>\n",
       "    </tr>\n",
       "    <tr>\n",
       "      <th>99997</th>\n",
       "      <td>c_10097</td>\n",
       "      <td>m_1596</td>\n",
       "      <td>731210</td>\n",
       "      <td>5</td>\n",
       "      <td>99</td>\n",
       "      <td>1.37</td>\n",
       "      <td>0.00</td>\n",
       "      <td>1.0</td>\n",
       "      <td>0.1</td>\n",
       "      <td>0.12</td>\n",
       "      <td>11.0</td>\n",
       "    </tr>\n",
       "    <tr>\n",
       "      <th>99998</th>\n",
       "      <td>c_10097</td>\n",
       "      <td>m_1596</td>\n",
       "      <td>731580</td>\n",
       "      <td>5</td>\n",
       "      <td>99</td>\n",
       "      <td>1.50</td>\n",
       "      <td>0.00</td>\n",
       "      <td>1.0</td>\n",
       "      <td>0.1</td>\n",
       "      <td>0.12</td>\n",
       "      <td>15.0</td>\n",
       "    </tr>\n",
       "    <tr>\n",
       "      <th>99999</th>\n",
       "      <td>c_10097</td>\n",
       "      <td>m_1596</td>\n",
       "      <td>731960</td>\n",
       "      <td>4</td>\n",
       "      <td>99</td>\n",
       "      <td>1.65</td>\n",
       "      <td>0.00</td>\n",
       "      <td>1.0</td>\n",
       "      <td>0.1</td>\n",
       "      <td>0.12</td>\n",
       "      <td>19.0</td>\n",
       "    </tr>\n",
       "    <tr>\n",
       "      <th>100000</th>\n",
       "      <td>c_10097</td>\n",
       "      <td>m_1596</td>\n",
       "      <td>732570</td>\n",
       "      <td>4</td>\n",
       "      <td>100</td>\n",
       "      <td>2.02</td>\n",
       "      <td>0.00</td>\n",
       "      <td>3.0</td>\n",
       "      <td>0.1</td>\n",
       "      <td>0.12</td>\n",
       "      <td>9.0</td>\n",
       "    </tr>\n",
       "  </tbody>\n",
       "</table>\n",
       "<p>100001 rows × 11 columns</p>\n",
       "</div>"
      ],
      "text/plain": [
       "       Unnamed: 0   m_108  696330  20   56  Unnamed: 5  Unnamed: 6  \\\n",
       "0             NaN   m_108  698570  14   64        1.56        0.00   \n",
       "1             NaN   m_108  698620  12   64        1.46        0.03   \n",
       "2             NaN   m_108  698670  10   64        1.74        0.00   \n",
       "3             NaN   m_108  699740   7   65        1.57        0.02   \n",
       "4             NaN   m_108  700010   8   64        1.90        0.00   \n",
       "...           ...     ...     ...  ..  ...         ...         ...   \n",
       "99996     c_10097  m_1596  731090   4  100        1.19        0.00   \n",
       "99997     c_10097  m_1596  731210   5   99        1.37        0.00   \n",
       "99998     c_10097  m_1596  731580   5   99        1.50        0.00   \n",
       "99999     c_10097  m_1596  731960   4   99        1.65        0.00   \n",
       "100000    c_10097  m_1596  732570   4  100        2.02        0.00   \n",
       "\n",
       "        Unnamed: 7    0   0.1     2  \n",
       "0              0.0  0.0  0.00   4.0  \n",
       "1              0.0  0.0  0.00   4.0  \n",
       "2              0.0  0.0  0.00   5.0  \n",
       "3              0.0  0.0  0.00   6.0  \n",
       "4              0.0  0.0  0.00   4.0  \n",
       "...            ...  ...   ...   ...  \n",
       "99996          0.0  0.1  0.12  14.0  \n",
       "99997          1.0  0.1  0.12  11.0  \n",
       "99998          1.0  0.1  0.12  15.0  \n",
       "99999          1.0  0.1  0.12  19.0  \n",
       "100000         3.0  0.1  0.12   9.0  \n",
       "\n",
       "[100001 rows x 11 columns]"
      ]
     },
     "execution_count": 3,
     "metadata": {},
     "output_type": "execute_result"
    }
   ],
   "source": [
    "file =   open('data\\container_usage.csv', 'r', encoding='utf-8')\n",
    "data = pd.read_csv(file)\n",
    "df = pd.DataFrame(data)\n",
    "df"
   ]
  },
  {
   "cell_type": "code",
   "execution_count": 4,
   "metadata": {
    "pycharm": {
     "name": "#%%\n"
    }
   },
   "outputs": [],
   "source": [
    "df.columns = container_usage_column_name\n",
    "grp = df[['time_stamp', 'container_id', 'cpu_util_percent']].groupby('time_stamp')\n",
    "mean_grp = grp.mean()\n",
    "max_grp = grp.max()\n",
    "min_grp = grp.min()\n",
    "mean_cpu_usage_by_timestamp = mean_grp['cpu_util_percent']\n",
    "max_cpu_usage_by_timestamp = max_grp['cpu_util_percent']\n",
    "min_cpu_usage_by_timestamp = min_grp['cpu_util_percent']\n"
   ]
  },
  {
   "cell_type": "code",
   "execution_count": 5,
   "metadata": {
    "pycharm": {
     "name": "#%%\n"
    }
   },
   "outputs": [
    {
     "name": "stdout",
     "output_type": "stream",
     "text": [
      "Minimum CPU usage based on time stamp time_stamp\n",
      "86410     4\n",
      "86420     0\n",
      "86440     1\n",
      "86480     0\n",
      "86490     2\n",
      "         ..\n",
      "777530    7\n",
      "777540    3\n",
      "777550    7\n",
      "777570    4\n",
      "777590    9\n",
      "Name: cpu_util_percent, Length: 51856, dtype: int64\n",
      "Mean CPU usage\n"
     ]
    }
   ],
   "source": [
    "print(\"Minimum CPU usage based on time stamp\", min_cpu_usage_by_timestamp)\n",
    "\n",
    "print(\"Mean CPU usage\")\n"
   ]
  },
  {
   "cell_type": "code",
   "execution_count": 6,
   "metadata": {
    "pycharm": {
     "name": "#%%\n"
    }
   },
   "outputs": [
    {
     "data": {
      "image/png": "[encoded data removed]",
      "text/plain": [
       "<Figure size 432x288 with 1 Axes>"
      ]
     },
     "metadata": {
      "needs_background": "light"
     },
     "output_type": "display_data"
    }
   ],
   "source": [
    "index = (max_grp.index - 39600) / 3600\n",
    "plt.plot(index, max_cpu_usage_by_timestamp, 'r', label='max')\n",
    "plt.plot(index, mean_cpu_usage_by_timestamp, 'green', label='avg')\n",
    "plt.plot(index, min_cpu_usage_by_timestamp, 'b', label='min')\n",
    "\n",
    "plt.fill_between(index, max_cpu_usage_by_timestamp, min_cpu_usage_by_timestamp, color='orange')\n",
    "\n",
    "plt.legend(bbox_to_anchor=[1, 1])\n",
    "plt.title('Time distribution for CPU utilisation')\n",
    "plt.xlabel('Time')\n",
    "plt.ylabel('CPU utilised(%)')\n",
    "plt.grid()\n",
    "plt.show()\n"
   ]
  },
  {
   "cell_type": "code",
   "execution_count": 7,
   "metadata": {
    "pycharm": {
     "name": "#%%\n"
    }
   },
   "outputs": [],
   "source": [
    "#Group By Machine"
   ]
  },
  {
   "cell_type": "code",
   "execution_count": 8,
   "metadata": {
    "pycharm": {
     "name": "#%%\n"
    }
   },
   "outputs": [
    {
     "data": {
      "image/png": "[encoded data removed]",
      "text/plain": [
       "<Figure size 432x288 with 1 Axes>"
      ]
     },
     "metadata": {
      "needs_background": "light"
     },
     "output_type": "display_data"
    }
   ],
   "source": [
    "grp_machine = df[['time_stamp', 'container_id', 'mem_util_percent']].groupby('time_stamp')\n",
    "mean_grp_machine = grp_machine.mean()\n",
    "max_grp_machine = grp_machine.max()\n",
    "min_grp_machine = grp_machine.min()\n",
    "mean_machine_usage_by_timestamp = mean_grp_machine['mem_util_percent']\n",
    "max_machine_usage_by_timestamp = max_grp_machine['mem_util_percent']\n",
    "min_machine_usage_by_timestamp = min_grp_machine['mem_util_percent']\n",
    "index = (max_grp_machine.index - 39600) / 3600\n",
    "plt.plot(index, max_machine_usage_by_timestamp, 'r', label='max')\n",
    "plt.plot(index, mean_machine_usage_by_timestamp, 'green', label='avg')\n",
    "plt.plot(index, min_machine_usage_by_timestamp, 'b', label='min')\n",
    "\n",
    "plt.fill_between(index, max_machine_usage_by_timestamp, min_machine_usage_by_timestamp, color='orange')\n",
    "\n",
    "plt.legend(bbox_to_anchor=[1, 1])\n",
    "plt.title('Time distribution for Memory utilisation')\n",
    "plt.xlabel('Time')\n",
    "plt.ylabel('Memory utilised(%)')\n",
    "plt.grid()\n",
    "plt.show()"
   ]
  },
  {
   "cell_type": "code",
   "execution_count": 9,
   "metadata": {
    "pycharm": {
     "name": "#%%\n"
    }
   },
   "outputs": [],
   "source": [
    "batch_instance_column_name = ['instance_name', 'task_name', 'job_name', 'task_type', 'status', 'start_time',\n",
    "                              'end_time', 'machine_id', 'seq_no', 'total_seq_no', 'cpu_avg', 'cpu_max', 'mem_avg', 'mem_max']"
   ]
  },
  {
   "cell_type": "code",
   "execution_count": 10,
   "metadata": {
    "pycharm": {
     "name": "#%%\n"
    }
   },
   "outputs": [
    {
     "name": "stderr",
     "output_type": "stream",
     "text": [
      "<string>:6: RuntimeWarning: Converting input from bool to <class 'numpy.uint8'> for compatibility.\n"
     ]
    },
    {
     "data": {
      "image/png": "[encoded data removed]",
      "text/plain": [
       "<Figure size 360x288 with 1 Axes>"
      ]
     },
     "metadata": {
      "needs_background": "light"
     },
     "output_type": "display_data"
    }
   ],
   "source": [
    "f = open('data/batch_instance.csv', 'r', encoding='utf-8')\n",
    "data_batch_instance = pd.read_csv(f)\n",
    "df_batch_instance = pd.DataFrame(data_batch_instance)\n",
    "df_batch_instance.columns = batch_instance_column_name\n",
    "grp_batch_instance = df_batch_instance[['start_time', 'end_time', 'status', 'cpu_max']].groupby('status')\n",
    "mean_grp_batch = grp_batch_instance.mean()\n",
    "max_grp_batch = grp_batch_instance.max()\n",
    "min_grp_batch = grp_batch_instance.min()\n",
    "mean_cpu_usage_by_container = mean_grp_batch['cpu_max']\n",
    "max_cpu_usage_by_container = max_grp_batch['cpu_max']\n",
    "min_cpu_usage_by_container = min_grp_batch['cpu_max']\n",
    "\n",
    "max_cpu_usage_by_container\n",
    "\n",
    "fig, ax = plt.subplots(figsize=(5, 4))\n",
    "num_bins = 100\n",
    "\n",
    "n_max, bins_max = np.histogram(np.isfinite(max_cpu_usage_by_container), num_bins)\n",
    "n_min, bins_min = np.histogram(np.isfinite(min_cpu_usage_by_container), num_bins)\n",
    "n_mean, bins_mean = np.histogram(np.isfinite(mean_cpu_usage_by_container), num_bins)\n",
    "\n",
    "dx_max = bins_max[1] - bins_max[0]\n",
    "dx_min = bins_min[1] - bins_min[0]\n",
    "dx_mean = bins_mean[1] - bins_mean[0]\n",
    "\n",
    "n_max = n_max.cumsum()*dx_max\n",
    "n_min = n_min.cumsum()*dx_min\n",
    "n_mean = n_mean.cumsum()*dx_mean\n",
    "n_max = np.append(n_max, n_max[-1])\n",
    "n_min = np.append(n_min, n_min[-1])\n",
    "n_mean = np.append(n_mean, n_mean[-1])\n",
    "\n",
    "ax.plot(bins_max, n_max, linewidth=1.5, label='max', color='r')\n",
    "ax.plot(bins_mean, n_mean, linewidth=1.5, label='avg', color='green')\n",
    "ax.plot(bins_min, n_min, linewidth=1.5, label='min', color='b')\n",
    "\n",
    "ax.grid(True)\n",
    "ax.legend(loc='right')\n",
    "ax.set_title('CPU usage by a instance')\n",
    "ax.set_xlabel('Average CPU usage')\n",
    "ax.set_ylabel('portion of containers')\n",
    "ax.set_xlim([-5, 100])\n",
    "\n",
    "plt.show()"
   ]
  },
  {
   "cell_type": "code",
   "execution_count": 11,
   "metadata": {
    "pycharm": {
     "name": "#%%\n"
    }
   },
   "outputs": [
    {
     "data": {
      "text/html": [
       "<div>\n",
       "<style scoped>\n",
       "    .dataframe tbody tr th:only-of-type {\n",
       "        vertical-align: middle;\n",
       "    }\n",
       "\n",
       "    .dataframe tbody tr th {\n",
       "        vertical-align: top;\n",
       "    }\n",
       "\n",
       "    .dataframe thead th {\n",
       "        text-align: right;\n",
       "    }\n",
       "</style>\n",
       "<table border=\"1\" class=\"dataframe\">\n",
       "  <thead>\n",
       "    <tr style=\"text-align: right;\">\n",
       "      <th></th>\n",
       "      <th>task_name</th>\n",
       "      <th>instance_num</th>\n",
       "      <th>job_name</th>\n",
       "      <th>task_type</th>\n",
       "      <th>status</th>\n",
       "      <th>start_time</th>\n",
       "      <th>end_time</th>\n",
       "      <th>plan_cpu</th>\n",
       "      <th>plan_mem</th>\n",
       "      <th>task_create_time</th>\n",
       "    </tr>\n",
       "  </thead>\n",
       "  <tbody>\n",
       "    <tr>\n",
       "      <th>0</th>\n",
       "      <td>R2_1</td>\n",
       "      <td>1.0</td>\n",
       "      <td>j_2</td>\n",
       "      <td>1</td>\n",
       "      <td>Terminated</td>\n",
       "      <td>87076</td>\n",
       "      <td>87086</td>\n",
       "      <td>50.0</td>\n",
       "      <td>0.20</td>\n",
       "      <td>10</td>\n",
       "    </tr>\n",
       "    <tr>\n",
       "      <th>1</th>\n",
       "      <td>M1</td>\n",
       "      <td>1.0</td>\n",
       "      <td>j_2</td>\n",
       "      <td>1</td>\n",
       "      <td>Terminated</td>\n",
       "      <td>87076</td>\n",
       "      <td>87083</td>\n",
       "      <td>50.0</td>\n",
       "      <td>0.20</td>\n",
       "      <td>7</td>\n",
       "    </tr>\n",
       "    <tr>\n",
       "      <th>2</th>\n",
       "      <td>R6_3</td>\n",
       "      <td>371.0</td>\n",
       "      <td>j_3</td>\n",
       "      <td>1</td>\n",
       "      <td>Terminated</td>\n",
       "      <td>157297</td>\n",
       "      <td>157325</td>\n",
       "      <td>100.0</td>\n",
       "      <td>0.49</td>\n",
       "      <td>28</td>\n",
       "    </tr>\n",
       "    <tr>\n",
       "      <th>3</th>\n",
       "      <td>J4_2_3</td>\n",
       "      <td>1111.0</td>\n",
       "      <td>j_3</td>\n",
       "      <td>1</td>\n",
       "      <td>Terminated</td>\n",
       "      <td>157329</td>\n",
       "      <td>157376</td>\n",
       "      <td>100.0</td>\n",
       "      <td>0.59</td>\n",
       "      <td>47</td>\n",
       "    </tr>\n",
       "    <tr>\n",
       "      <th>4</th>\n",
       "      <td>R2_1</td>\n",
       "      <td>1.0</td>\n",
       "      <td>j_3</td>\n",
       "      <td>1</td>\n",
       "      <td>Terminated</td>\n",
       "      <td>157322</td>\n",
       "      <td>157328</td>\n",
       "      <td>100.0</td>\n",
       "      <td>0.39</td>\n",
       "      <td>6</td>\n",
       "    </tr>\n",
       "  </tbody>\n",
       "</table>\n",
       "</div>"
      ],
      "text/plain": [
       "  task_name  instance_num job_name  task_type      status  start_time  \\\n",
       "0      R2_1           1.0      j_2          1  Terminated       87076   \n",
       "1        M1           1.0      j_2          1  Terminated       87076   \n",
       "2      R6_3         371.0      j_3          1  Terminated      157297   \n",
       "3    J4_2_3        1111.0      j_3          1  Terminated      157329   \n",
       "4      R2_1           1.0      j_3          1  Terminated      157322   \n",
       "\n",
       "   end_time  plan_cpu  plan_mem  task_create_time  \n",
       "0     87086      50.0      0.20                10  \n",
       "1     87083      50.0      0.20                 7  \n",
       "2    157325     100.0      0.49                28  \n",
       "3    157376     100.0      0.59                47  \n",
       "4    157328     100.0      0.39                 6  "
      ]
     },
     "execution_count": 11,
     "metadata": {},
     "output_type": "execute_result"
    }
   ],
   "source": [
    "#Visualising the number of instances used in Time interval\n",
    "import csv\n",
    "\n",
    "df_batch_task = pd.DataFrame(pd.read_csv('data/batch_task.csv'))\n",
    "batch_task_column_name = ['task_name', 'instance_num', 'job_name', 'task_type', 'status', 'start_time',\n",
    "                              'end_time', 'plan_cpu', 'plan_mem']\n",
    "df_batch_task.columns = batch_task_column_name\n",
    "df_batch_task['task_create_time'] = df_batch_task['end_time'] - df_batch_task['start_time']\n",
    "\n",
    "df_batch_task.head()"
   ]
  },
  {
   "cell_type": "code",
   "execution_count": 12,
   "metadata": {
    "pycharm": {
     "name": "#%%\n"
    }
   },
   "outputs": [],
   "source": [
    "max_val=df_batch_task['task_create_time'].max()\n",
    "\n",
    "lb=0\n",
    "ub=4\n",
    "total=[]\n",
    "variables=[]\n",
    "flag=0\n",
    "i=int(np.round(max_val/4))\n",
    "ren=len(df_batch_task)\n",
    "aaa=0\n",
    "aa=0\n",
    "sum_var=0\n",
    "ii=0\n",
    "for j in range (0,len(df_batch_task)):\n",
    "    if df_batch_task['task_create_time'][j]==0:\n",
    "        sum_var=aa\n",
    "        aa=df_batch_task['instance_num'][j]+sum_var"
   ]
  },
  {
   "cell_type": "code",
   "execution_count": 14,
   "metadata": {
    "pycharm": {
     "name": "#%%\n"
    }
   },
   "outputs": [
    {
     "ename": "KeyboardInterrupt",
     "evalue": "",
     "output_type": "error",
     "traceback": [
      "\u001B[1;31m---------------------------------------------------------------------------\u001B[0m",
      "\u001B[1;31mKeyboardInterrupt\u001B[0m                         Traceback (most recent call last)",
      "\u001B[1;32m<ipython-input-14-a19b9de390fd>\u001B[0m in \u001B[0;36m<module>\u001B[1;34m\u001B[0m\n\u001B[0;32m      1\u001B[0m \u001B[1;32mfor\u001B[0m \u001B[0mi\u001B[0m \u001B[1;32min\u001B[0m \u001B[0mrange\u001B[0m\u001B[1;33m(\u001B[0m\u001B[1;36m0\u001B[0m\u001B[1;33m,\u001B[0m\u001B[0mint\u001B[0m\u001B[1;33m(\u001B[0m\u001B[0mnp\u001B[0m\u001B[1;33m.\u001B[0m\u001B[0mround\u001B[0m\u001B[1;33m(\u001B[0m\u001B[0mmax_val\u001B[0m\u001B[1;33m/\u001B[0m\u001B[1;36m4\u001B[0m\u001B[1;33m)\u001B[0m\u001B[1;33m)\u001B[0m\u001B[1;33m)\u001B[0m\u001B[1;33m:\u001B[0m\u001B[1;33m\u001B[0m\u001B[1;33m\u001B[0m\u001B[0m\n\u001B[0;32m      2\u001B[0m     \u001B[1;32mfor\u001B[0m \u001B[0mj\u001B[0m \u001B[1;32min\u001B[0m \u001B[0mrange\u001B[0m \u001B[1;33m(\u001B[0m\u001B[1;36m0\u001B[0m\u001B[1;33m,\u001B[0m\u001B[0mlen\u001B[0m\u001B[1;33m(\u001B[0m\u001B[0mdf_batch_task\u001B[0m\u001B[1;33m)\u001B[0m\u001B[1;33m)\u001B[0m\u001B[1;33m:\u001B[0m\u001B[1;33m\u001B[0m\u001B[1;33m\u001B[0m\u001B[0m\n\u001B[1;32m----> 3\u001B[1;33m         \u001B[1;32mif\u001B[0m \u001B[0mlb\u001B[0m \u001B[1;33m<\u001B[0m \u001B[0mdf_batch_task\u001B[0m\u001B[1;33m[\u001B[0m\u001B[1;34m'task_create_time'\u001B[0m\u001B[1;33m]\u001B[0m\u001B[1;33m[\u001B[0m\u001B[0mj\u001B[0m\u001B[1;33m]\u001B[0m \u001B[1;33m<=\u001B[0m \u001B[0mub\u001B[0m\u001B[1;33m:\u001B[0m\u001B[1;33m\u001B[0m\u001B[1;33m\u001B[0m\u001B[0m\n\u001B[0m\u001B[0;32m      4\u001B[0m             \u001B[0msum_var\u001B[0m\u001B[1;33m=\u001B[0m\u001B[0maa\u001B[0m\u001B[1;33m\u001B[0m\u001B[1;33m\u001B[0m\u001B[0m\n\u001B[0;32m      5\u001B[0m             \u001B[0maa\u001B[0m\u001B[1;33m=\u001B[0m\u001B[0mdf_batch_task\u001B[0m\u001B[1;33m[\u001B[0m\u001B[1;34m'instance_num'\u001B[0m\u001B[1;33m]\u001B[0m\u001B[1;33m[\u001B[0m\u001B[0mj\u001B[0m\u001B[1;33m]\u001B[0m\u001B[1;33m+\u001B[0m\u001B[0msum_var\u001B[0m\u001B[1;33m\u001B[0m\u001B[1;33m\u001B[0m\u001B[0m\n",
      "\u001B[1;32mC:\\ProgramData\\Anaconda3\\lib\\site-packages\\pandas\\core\\series.py\u001B[0m in \u001B[0;36m__getitem__\u001B[1;34m(self, key)\u001B[0m\n\u001B[0;32m    869\u001B[0m         \u001B[0mkey\u001B[0m \u001B[1;33m=\u001B[0m \u001B[0mcom\u001B[0m\u001B[1;33m.\u001B[0m\u001B[0mapply_if_callable\u001B[0m\u001B[1;33m(\u001B[0m\u001B[0mkey\u001B[0m\u001B[1;33m,\u001B[0m \u001B[0mself\u001B[0m\u001B[1;33m)\u001B[0m\u001B[1;33m\u001B[0m\u001B[1;33m\u001B[0m\u001B[0m\n\u001B[0;32m    870\u001B[0m         \u001B[1;32mtry\u001B[0m\u001B[1;33m:\u001B[0m\u001B[1;33m\u001B[0m\u001B[1;33m\u001B[0m\u001B[0m\n\u001B[1;32m--> 871\u001B[1;33m             \u001B[0mresult\u001B[0m \u001B[1;33m=\u001B[0m \u001B[0mself\u001B[0m\u001B[1;33m.\u001B[0m\u001B[0mindex\u001B[0m\u001B[1;33m.\u001B[0m\u001B[0mget_value\u001B[0m\u001B[1;33m(\u001B[0m\u001B[0mself\u001B[0m\u001B[1;33m,\u001B[0m \u001B[0mkey\u001B[0m\u001B[1;33m)\u001B[0m\u001B[1;33m\u001B[0m\u001B[1;33m\u001B[0m\u001B[0m\n\u001B[0m\u001B[0;32m    872\u001B[0m \u001B[1;33m\u001B[0m\u001B[0m\n\u001B[0;32m    873\u001B[0m             \u001B[1;32mif\u001B[0m \u001B[1;32mnot\u001B[0m \u001B[0mis_scalar\u001B[0m\u001B[1;33m(\u001B[0m\u001B[0mresult\u001B[0m\u001B[1;33m)\u001B[0m\u001B[1;33m:\u001B[0m\u001B[1;33m\u001B[0m\u001B[1;33m\u001B[0m\u001B[0m\n",
      "\u001B[1;32mC:\\ProgramData\\Anaconda3\\lib\\site-packages\\pandas\\core\\indexes\\base.py\u001B[0m in \u001B[0;36mget_value\u001B[1;34m(self, series, key)\u001B[0m\n\u001B[0;32m   4377\u001B[0m         \u001B[1;31m# use this, e.g. DatetimeIndex\u001B[0m\u001B[1;33m\u001B[0m\u001B[1;33m\u001B[0m\u001B[1;33m\u001B[0m\u001B[0m\n\u001B[0;32m   4378\u001B[0m         \u001B[1;31m# Things like `Series._get_value` (via .at) pass the EA directly here.\u001B[0m\u001B[1;33m\u001B[0m\u001B[1;33m\u001B[0m\u001B[1;33m\u001B[0m\u001B[0m\n\u001B[1;32m-> 4379\u001B[1;33m         \u001B[0ms\u001B[0m \u001B[1;33m=\u001B[0m \u001B[0mextract_array\u001B[0m\u001B[1;33m(\u001B[0m\u001B[0mseries\u001B[0m\u001B[1;33m,\u001B[0m \u001B[0mextract_numpy\u001B[0m\u001B[1;33m=\u001B[0m\u001B[1;32mTrue\u001B[0m\u001B[1;33m)\u001B[0m\u001B[1;33m\u001B[0m\u001B[1;33m\u001B[0m\u001B[0m\n\u001B[0m\u001B[0;32m   4380\u001B[0m         \u001B[1;32mif\u001B[0m \u001B[0misinstance\u001B[0m\u001B[1;33m(\u001B[0m\u001B[0ms\u001B[0m\u001B[1;33m,\u001B[0m \u001B[0mExtensionArray\u001B[0m\u001B[1;33m)\u001B[0m\u001B[1;33m:\u001B[0m\u001B[1;33m\u001B[0m\u001B[1;33m\u001B[0m\u001B[0m\n\u001B[0;32m   4381\u001B[0m             \u001B[1;32mif\u001B[0m \u001B[0mis_scalar\u001B[0m\u001B[1;33m(\u001B[0m\u001B[0mkey\u001B[0m\u001B[1;33m)\u001B[0m\u001B[1;33m:\u001B[0m\u001B[1;33m\u001B[0m\u001B[1;33m\u001B[0m\u001B[0m\n",
      "\u001B[1;32mC:\\ProgramData\\Anaconda3\\lib\\site-packages\\pandas\\core\\construction.py\u001B[0m in \u001B[0;36mextract_array\u001B[1;34m(obj, extract_numpy)\u001B[0m\n\u001B[0;32m    380\u001B[0m         \u001B[0mobj\u001B[0m \u001B[1;33m=\u001B[0m \u001B[0mobj\u001B[0m\u001B[1;33m.\u001B[0m\u001B[0marray\u001B[0m\u001B[1;33m\u001B[0m\u001B[1;33m\u001B[0m\u001B[0m\n\u001B[0;32m    381\u001B[0m \u001B[1;33m\u001B[0m\u001B[0m\n\u001B[1;32m--> 382\u001B[1;33m     \u001B[1;32mif\u001B[0m \u001B[0mextract_numpy\u001B[0m \u001B[1;32mand\u001B[0m \u001B[0misinstance\u001B[0m\u001B[1;33m(\u001B[0m\u001B[0mobj\u001B[0m\u001B[1;33m,\u001B[0m \u001B[0mABCPandasArray\u001B[0m\u001B[1;33m)\u001B[0m\u001B[1;33m:\u001B[0m\u001B[1;33m\u001B[0m\u001B[1;33m\u001B[0m\u001B[0m\n\u001B[0m\u001B[0;32m    383\u001B[0m         \u001B[0mobj\u001B[0m \u001B[1;33m=\u001B[0m \u001B[0mobj\u001B[0m\u001B[1;33m.\u001B[0m\u001B[0mto_numpy\u001B[0m\u001B[1;33m(\u001B[0m\u001B[1;33m)\u001B[0m\u001B[1;33m\u001B[0m\u001B[1;33m\u001B[0m\u001B[0m\n\u001B[0;32m    384\u001B[0m \u001B[1;33m\u001B[0m\u001B[0m\n",
      "\u001B[1;32mC:\\ProgramData\\Anaconda3\\lib\\site-packages\\pandas\\core\\dtypes\\generic.py\u001B[0m in \u001B[0;36m_check\u001B[1;34m(cls, inst)\u001B[0m\n\u001B[0;32m     10\u001B[0m     \u001B[1;33m@\u001B[0m\u001B[0mclassmethod\u001B[0m  \u001B[1;31m# type: ignore\u001B[0m\u001B[1;33m\u001B[0m\u001B[1;33m\u001B[0m\u001B[0m\n\u001B[0;32m     11\u001B[0m     \u001B[1;32mdef\u001B[0m \u001B[0m_check\u001B[0m\u001B[1;33m(\u001B[0m\u001B[0mcls\u001B[0m\u001B[1;33m,\u001B[0m \u001B[0minst\u001B[0m\u001B[1;33m)\u001B[0m \u001B[1;33m->\u001B[0m \u001B[0mbool\u001B[0m\u001B[1;33m:\u001B[0m\u001B[1;33m\u001B[0m\u001B[1;33m\u001B[0m\u001B[0m\n\u001B[1;32m---> 12\u001B[1;33m         \u001B[1;32mreturn\u001B[0m \u001B[0mgetattr\u001B[0m\u001B[1;33m(\u001B[0m\u001B[0minst\u001B[0m\u001B[1;33m,\u001B[0m \u001B[0mattr\u001B[0m\u001B[1;33m,\u001B[0m \u001B[1;34m\"_typ\"\u001B[0m\u001B[1;33m)\u001B[0m \u001B[1;32min\u001B[0m \u001B[0mcomp\u001B[0m\u001B[1;33m\u001B[0m\u001B[1;33m\u001B[0m\u001B[0m\n\u001B[0m\u001B[0;32m     13\u001B[0m \u001B[1;33m\u001B[0m\u001B[0m\n\u001B[0;32m     14\u001B[0m     \u001B[0mdct\u001B[0m \u001B[1;33m=\u001B[0m \u001B[0mdict\u001B[0m\u001B[1;33m(\u001B[0m\u001B[0m__instancecheck__\u001B[0m\u001B[1;33m=\u001B[0m\u001B[0m_check\u001B[0m\u001B[1;33m,\u001B[0m \u001B[0m__subclasscheck__\u001B[0m\u001B[1;33m=\u001B[0m\u001B[0m_check\u001B[0m\u001B[1;33m)\u001B[0m\u001B[1;33m\u001B[0m\u001B[1;33m\u001B[0m\u001B[0m\n",
      "\u001B[1;31mKeyboardInterrupt\u001B[0m: "
     ]
    }
   ],
   "source": [
    "for i in range(0,int(np.round(max_val/4))):\n",
    "    for j in range (0,len(df_batch_task)):\n",
    "        if lb < df_batch_task['task_create_time'][j] <= ub:\n",
    "            sum_var=aa\n",
    "            aa=df_batch_task['instance_num'][j]+sum_var\n",
    "    variables.append(aaa)\n",
    "    if aa==0:\n",
    "      aa=1\n",
    "    total.append(aa)\n",
    "    aa=0\n",
    "    aaa=aaa+4\n",
    "\n",
    "\n",
    "    lb=ub\n",
    "    ub=ub+4"
   ]
  },
  {
   "cell_type": "code",
   "execution_count": null,
   "metadata": {
    "pycharm": {
     "name": "#%%\n"
    }
   },
   "outputs": [],
   "source": [
    "csvD=[variables,total]\n",
    "print(csvD)\n",
    "A=zip(*csvD)\n",
    "print(A)\n",
    "with open('data/input_file.csv', 'w', newline='') as csvFile:\n",
    "    writer = csv.writer(csvFile)\n",
    "    writer.writerows(A)\n",
    "\n"
   ]
  },
  {
   "cell_type": "code",
   "execution_count": 16,
   "metadata": {
    "pycharm": {
     "name": "#%%\n"
    }
   },
   "outputs": [
    {
     "data": {
      "image/png": "[encoded data removed]",
      "text/plain": [
       "<Figure size 864x576 with 1 Axes>"
      ]
     },
     "metadata": {
      "needs_background": "light"
     },
     "output_type": "display_data"
    }
   ],
   "source": [
    "dataframe = pd.read_csv('data/final_input_file.csv')\n",
    "dataframe.columns = ['time_interval', 'no_of_instances']\n",
    "fig=plt.figure(figsize=(12,8))\n",
    "plt.title(\"Instances utilised based on time\")\n",
    "plt.xlabel(\"Time\")\n",
    "plt.ylabel(\"Number of instances\")\n",
    "plt.plot(dataframe.time_interval, dataframe.no_of_instances)\n",
    "plt.show()"
   ]
  },
  {
   "cell_type": "code",
   "execution_count": null,
   "outputs": [],
   "source": [],
   "metadata": {
    "collapsed": false,
    "pycharm": {
     "name": "#%%\n"
    }
   }
  },
  {
   "cell_type": "code",
   "execution_count": null,
   "metadata": {},
   "outputs": [],
   "source": []
  }
 ],
 "metadata": {
  "kernelspec": {
   "display_name": "Python 3",
   "language": "python",
   "name": "python3"
  },
  "language_info": {
   "codemirror_mode": {
    "name": "ipython",
    "version": 3
   },
   "file_extension": ".py",
   "mimetype": "text/x-python",
   "name": "python",
   "nbconvert_exporter": "python",
   "pygments_lexer": "ipython3",
   "version": "3.7.6"
  }
 },
 "nbformat": 4,
 "nbformat_minor": 1
}