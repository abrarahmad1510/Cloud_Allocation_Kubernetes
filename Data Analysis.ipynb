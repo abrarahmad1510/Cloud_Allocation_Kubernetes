{
 "cells": [
  {
   "cell_type": "code",
   "execution_count": 3,
   "outputs": [],
   "source": [
    "import pandas as pd\n",
    "import matplotlib.pyplot as plt\n",
    "\n"
   ],
   "metadata": {
    "collapsed": false,
    "pycharm": {
     "name": "#%%\n"
    }
   }
  },
  {
   "cell_type": "code",
   "execution_count": 4,
   "metadata": {
    "collapsed": true
   },
   "outputs": [],
   "source": [
    "container_event_column_name = ['timestamp', 'event_type', 'instance_id', 'machine_id', 'cpu_requested',\n",
    "                               'memory_requested', 'disk_requested', 'cpu_ids', 'useless_column']\n",
    "container_usage_column_name = ['timestamp', 'instance_id', 'cpu', 'memory', 'disk', 'cpu_load_1min', 'cpu_load_5min',\n",
    "                               'cpu_load_15min', 'avg_cycles_per_instruction', 'avg_cache_miss_per_1000_instruction',\n",
    "                               'max_cycles_per_instruction', 'max_cache_miss_per_1000_instruction']\n"
   ]
  },
  {
   "cell_type": "code",
   "execution_count": 6,
   "outputs": [
    {
     "data": {
      "text/plain": "       Unnamed: 0   m_108  696330  20   56  Unnamed: 5  Unnamed: 6  \\\n0             NaN   m_108  698570  14   64        1.56        0.00   \n1             NaN   m_108  698620  12   64        1.46        0.03   \n2             NaN   m_108  698670  10   64        1.74        0.00   \n3             NaN   m_108  699740   7   65        1.57        0.02   \n4             NaN   m_108  700010   8   64        1.90        0.00   \n...           ...     ...     ...  ..  ...         ...         ...   \n99996     c_10097  m_1596  731090   4  100        1.19        0.00   \n99997     c_10097  m_1596  731210   5   99        1.37        0.00   \n99998     c_10097  m_1596  731580   5   99        1.50        0.00   \n99999     c_10097  m_1596  731960   4   99        1.65        0.00   \n100000    c_10097  m_1596  732570   4  100        2.02        0.00   \n\n        Unnamed: 7    0   0.1     2  \n0              0.0  0.0  0.00   4.0  \n1              0.0  0.0  0.00   4.0  \n2              0.0  0.0  0.00   5.0  \n3              0.0  0.0  0.00   6.0  \n4              0.0  0.0  0.00   4.0  \n...            ...  ...   ...   ...  \n99996          0.0  0.1  0.12  14.0  \n99997          1.0  0.1  0.12  11.0  \n99998          1.0  0.1  0.12  15.0  \n99999          1.0  0.1  0.12  19.0  \n100000         3.0  0.1  0.12   9.0  \n\n[100001 rows x 11 columns]",
      "text/html": "<div>\n<style scoped>\n    .dataframe tbody tr th:only-of-type {\n        vertical-align: middle;\n    }\n\n    .dataframe tbody tr th {\n        vertical-align: top;\n    }\n\n    .dataframe thead th {\n        text-align: right;\n    }\n</style>\n<table border=\"1\" class=\"dataframe\">\n  <thead>\n    <tr style=\"text-align: right;\">\n      <th></th>\n      <th>Unnamed: 0</th>\n      <th>m_108</th>\n      <th>696330</th>\n      <th>20</th>\n      <th>56</th>\n      <th>Unnamed: 5</th>\n      <th>Unnamed: 6</th>\n      <th>Unnamed: 7</th>\n      <th>0</th>\n      <th>0.1</th>\n      <th>2</th>\n    </tr>\n  </thead>\n  <tbody>\n    <tr>\n      <th>0</th>\n      <td>NaN</td>\n      <td>m_108</td>\n      <td>698570</td>\n      <td>14</td>\n      <td>64</td>\n      <td>1.56</td>\n      <td>0.00</td>\n      <td>0.0</td>\n      <td>0.0</td>\n      <td>0.00</td>\n      <td>4.0</td>\n    </tr>\n    <tr>\n      <th>1</th>\n      <td>NaN</td>\n      <td>m_108</td>\n      <td>698620</td>\n      <td>12</td>\n      <td>64</td>\n      <td>1.46</td>\n      <td>0.03</td>\n      <td>0.0</td>\n      <td>0.0</td>\n      <td>0.00</td>\n      <td>4.0</td>\n    </tr>\n    <tr>\n      <th>2</th>\n      <td>NaN</td>\n      <td>m_108</td>\n      <td>698670</td>\n      <td>10</td>\n      <td>64</td>\n      <td>1.74</td>\n      <td>0.00</td>\n      <td>0.0</td>\n      <td>0.0</td>\n      <td>0.00</td>\n      <td>5.0</td>\n    </tr>\n    <tr>\n      <th>3</th>\n      <td>NaN</td>\n      <td>m_108</td>\n      <td>699740</td>\n      <td>7</td>\n      <td>65</td>\n      <td>1.57</td>\n      <td>0.02</td>\n      <td>0.0</td>\n      <td>0.0</td>\n      <td>0.00</td>\n      <td>6.0</td>\n    </tr>\n    <tr>\n      <th>4</th>\n      <td>NaN</td>\n      <td>m_108</td>\n      <td>700010</td>\n      <td>8</td>\n      <td>64</td>\n      <td>1.90</td>\n      <td>0.00</td>\n      <td>0.0</td>\n      <td>0.0</td>\n      <td>0.00</td>\n      <td>4.0</td>\n    </tr>\n    <tr>\n      <th>...</th>\n      <td>...</td>\n      <td>...</td>\n      <td>...</td>\n      <td>...</td>\n      <td>...</td>\n      <td>...</td>\n      <td>...</td>\n      <td>...</td>\n      <td>...</td>\n      <td>...</td>\n      <td>...</td>\n    </tr>\n    <tr>\n      <th>99996</th>\n      <td>c_10097</td>\n      <td>m_1596</td>\n      <td>731090</td>\n      <td>4</td>\n      <td>100</td>\n      <td>1.19</td>\n      <td>0.00</td>\n      <td>0.0</td>\n      <td>0.1</td>\n      <td>0.12</td>\n      <td>14.0</td>\n    </tr>\n    <tr>\n      <th>99997</th>\n      <td>c_10097</td>\n      <td>m_1596</td>\n      <td>731210</td>\n      <td>5</td>\n      <td>99</td>\n      <td>1.37</td>\n      <td>0.00</td>\n      <td>1.0</td>\n      <td>0.1</td>\n      <td>0.12</td>\n      <td>11.0</td>\n    </tr>\n    <tr>\n      <th>99998</th>\n      <td>c_10097</td>\n      <td>m_1596</td>\n      <td>731580</td>\n      <td>5</td>\n      <td>99</td>\n      <td>1.50</td>\n      <td>0.00</td>\n      <td>1.0</td>\n      <td>0.1</td>\n      <td>0.12</td>\n      <td>15.0</td>\n    </tr>\n    <tr>\n      <th>99999</th>\n      <td>c_10097</td>\n      <td>m_1596</td>\n      <td>731960</td>\n      <td>4</td>\n      <td>99</td>\n      <td>1.65</td>\n      <td>0.00</td>\n      <td>1.0</td>\n      <td>0.1</td>\n      <td>0.12</td>\n      <td>19.0</td>\n    </tr>\n    <tr>\n      <th>100000</th>\n      <td>c_10097</td>\n      <td>m_1596</td>\n      <td>732570</td>\n      <td>4</td>\n      <td>100</td>\n      <td>2.02</td>\n      <td>0.00</td>\n      <td>3.0</td>\n      <td>0.1</td>\n      <td>0.12</td>\n      <td>9.0</td>\n    </tr>\n  </tbody>\n</table>\n<p>100001 rows × 11 columns</p>\n</div>"
     },
     "execution_count": 6,
     "metadata": {},
     "output_type": "execute_result"
    }
   ],
   "source": [
    "file = open('data\\container_usage.csv', 'r', encoding='utf-8')\n",
    "data = pd.read_csv(file)\n",
    "df = pd.DataFrame(data)\n",
    "df"
   ],
   "metadata": {
    "collapsed": false,
    "pycharm": {
     "name": "#%%\n"
    }
   }
  },
  {
   "cell_type": "code",
   "execution_count": null,
   "outputs": [],
   "source": [
    "df.columns = container_usage_column_name\n",
    "grp = df[['timestamp', 'instance_id', 'cpu']].groupby('timestamp')\n",
    "mean_grp = grp.mean()\n",
    "max_grp = grp.max()\n",
    "min_grp = grp.min()\n",
    "mean_cpu_usage_by_timestamp = mean_grp['cpu']\n",
    "max_cpu_usage_by_timestamp = max_grp['cpu']\n",
    "min_cpu_usage_by_timestamp = min_grp['cpu']\n"
   ],
   "metadata": {
    "collapsed": false,
    "pycharm": {
     "name": "#%%\n"
    }
   }
  }
 ],
 "metadata": {
  "kernelspec": {
   "display_name": "Python 3",
   "language": "python",
   "name": "python3"
  },
  "language_info": {
   "codemirror_mode": {
    "name": "ipython",
    "version": 2
   },
   "file_extension": ".py",
   "mimetype": "text/x-python",
   "name": "python",
   "nbconvert_exporter": "python",
   "pygments_lexer": "ipython2",
   "version": "2.7.6"
  }
 },
 "nbformat": 4,
 "nbformat_minor": 0
}